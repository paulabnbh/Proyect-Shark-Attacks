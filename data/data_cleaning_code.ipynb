{
 "cells": [
  {
   "cell_type": "code",
   "execution_count": 1,
   "id": "39b24594",
   "metadata": {},
   "outputs": [],
   "source": [
    "import pandas as pd\n",
    "import numpy as np\n",
    "import re\n",
    "import warnings\n",
    "warnings.filterwarnings('ignore')"
   ]
  },
  {
   "cell_type": "code",
   "execution_count": 2,
   "id": "fee98644",
   "metadata": {},
   "outputs": [],
   "source": [
    "attacks_original = pd.read_csv('../data/attacks.csv', encoding = 'latin1')\n",
    "pd.set_option('display.max_columns', None)\n",
    "pd.set_option('display.max_rows', None)\n",
    "\n",
    "attacks = attacks_original.copy()"
   ]
  },
  {
   "cell_type": "code",
   "execution_count": 3,
   "id": "c4570cea",
   "metadata": {},
   "outputs": [
    {
     "data": {
      "text/plain": [
       "(25723, 24)"
      ]
     },
     "execution_count": 3,
     "metadata": {},
     "output_type": "execute_result"
    }
   ],
   "source": [
    "attacks_original.shape"
   ]
  },
  {
   "cell_type": "code",
   "execution_count": 4,
   "id": "e04c2d0a",
   "metadata": {},
   "outputs": [],
   "source": [
    "attacks.columns = attacks.columns.str.strip().str.lower().str.replace(' ','_').str.replace('.','_').str.replace(':','')"
   ]
  },
  {
   "cell_type": "code",
   "execution_count": 5,
   "id": "c27214f4",
   "metadata": {},
   "outputs": [
    {
     "data": {
      "text/plain": [
       "case_number                66.17\n",
       "date                       75.50\n",
       "year                       75.51\n",
       "type                       75.52\n",
       "country                    75.69\n",
       "area                       77.27\n",
       "location                   77.60\n",
       "activity                   77.62\n",
       "name                       76.32\n",
       "sex                        77.70\n",
       "age                        86.51\n",
       "injury                     75.61\n",
       "fatal_(y/n)                77.60\n",
       "time                       88.54\n",
       "species                    86.53\n",
       "investigator_or_source     75.57\n",
       "pdf                        75.50\n",
       "href_formula               75.50\n",
       "href                       75.50\n",
       "case_number_1              75.50\n",
       "case_number_2              75.50\n",
       "original_order             75.47\n",
       "unnamed_22                100.00\n",
       "unnamed_23                 99.99\n",
       "dtype: float64"
      ]
     },
     "execution_count": 5,
     "metadata": {},
     "output_type": "execute_result"
    }
   ],
   "source": [
    "nan_cols = attacks.isna().mean() * 100\n",
    "\n",
    "round(nan_cols[nan_cols > 0], 2)"
   ]
  },
  {
   "cell_type": "code",
   "execution_count": 6,
   "id": "1109bbe8",
   "metadata": {},
   "outputs": [
    {
     "data": {
      "text/plain": [
       "(6302, 24)"
      ]
     },
     "execution_count": 6,
     "metadata": {},
     "output_type": "execute_result"
    }
   ],
   "source": [
    "attacks = attacks.dropna(thresh = 3) #de esta manera nos quedamos con las filas que al menos tienen 3 columnas con datos.\n",
    "attacks.shape"
   ]
  },
  {
   "cell_type": "code",
   "execution_count": 7,
   "id": "f6ac6ca3",
   "metadata": {},
   "outputs": [
    {
     "data": {
      "text/plain": [
       "case_number                0.02\n",
       "year                       0.03\n",
       "type                       0.06\n",
       "country                    0.79\n",
       "area                       7.22\n",
       "location                   8.57\n",
       "activity                   8.63\n",
       "name                       3.33\n",
       "sex                        8.97\n",
       "age                       44.92\n",
       "injury                     0.44\n",
       "fatal_(y/n)                8.55\n",
       "time                      53.22\n",
       "species                   45.03\n",
       "investigator_or_source     0.27\n",
       "href_formula               0.02\n",
       "unnamed_22                99.98\n",
       "unnamed_23                99.97\n",
       "dtype: float64"
      ]
     },
     "execution_count": 7,
     "metadata": {},
     "output_type": "execute_result"
    }
   ],
   "source": [
    "nan_cols = attacks.isna().mean() * 100\n",
    "\n",
    "round(nan_cols[nan_cols > 0], 2)"
   ]
  },
  {
   "cell_type": "code",
   "execution_count": 8,
   "id": "82d7e9fd",
   "metadata": {},
   "outputs": [],
   "source": [
    "attacks.fillna({'type':'unknown', 'location' :  'unknown','name':'unknown', 'sex':'unknown','species':'unknown', 'injury':'not registered', 'fatal_(y/n)':'N/A',\n",
    "                'investigator_or_source':'unknown', 'pdf':'not applies','href_formula': 'not applies',\n",
    "                'href': 'not applies', 'unnamed_22': 0, 'unnamed_23': 0}, inplace = True)"
   ]
  },
  {
   "cell_type": "code",
   "execution_count": 9,
   "id": "a1b8266f",
   "metadata": {
    "scrolled": false
   },
   "outputs": [
    {
     "data": {
      "text/plain": [
       "case_number     0.02\n",
       "year            0.03\n",
       "country         0.79\n",
       "area            7.22\n",
       "activity        8.63\n",
       "age            44.92\n",
       "time           53.22\n",
       "dtype: float64"
      ]
     },
     "execution_count": 9,
     "metadata": {},
     "output_type": "execute_result"
    }
   ],
   "source": [
    "nan_cols = attacks.isna().mean() * 100\n",
    "\n",
    "round(nan_cols[nan_cols > 0], 2)"
   ]
  },
  {
   "cell_type": "code",
   "execution_count": 10,
   "id": "f9792360",
   "metadata": {
    "scrolled": false
   },
   "outputs": [],
   "source": [
    "attacks.age = round(pd.to_numeric(attacks.age, errors='coerce'),0) #para convertir todo a float y en caso de no ser float, devuelveme un NAN"
   ]
  },
  {
   "cell_type": "code",
   "execution_count": 11,
   "id": "b1ee7387",
   "metadata": {},
   "outputs": [],
   "source": [
    "attacks.age.fillna(attacks.age.mean(), inplace = True) #para rellenar todos los valores nulos por la media de la columna"
   ]
  },
  {
   "cell_type": "code",
   "execution_count": 12,
   "id": "3f54a625",
   "metadata": {},
   "outputs": [],
   "source": [
    "attacks.age = attacks.age.astype('int')"
   ]
  },
  {
   "cell_type": "code",
   "execution_count": 13,
   "id": "486dca9f",
   "metadata": {},
   "outputs": [
    {
     "data": {
      "text/plain": [
       "case_number     0.02\n",
       "year            0.03\n",
       "country         0.79\n",
       "area            7.22\n",
       "activity        8.63\n",
       "time           53.22\n",
       "dtype: float64"
      ]
     },
     "execution_count": 13,
     "metadata": {},
     "output_type": "execute_result"
    }
   ],
   "source": [
    "nan_cols = attacks.isna().mean() * 100\n",
    "\n",
    "round(nan_cols[nan_cols > 0], 2)"
   ]
  },
  {
   "cell_type": "code",
   "execution_count": 14,
   "id": "abf8c7e1",
   "metadata": {},
   "outputs": [],
   "source": [
    "activitymode = attacks.activity.mode()"
   ]
  },
  {
   "cell_type": "code",
   "execution_count": 15,
   "id": "e79747d3",
   "metadata": {},
   "outputs": [],
   "source": [
    "attacks.activity.fillna('activitymode', inplace=True)"
   ]
  },
  {
   "cell_type": "code",
   "execution_count": 16,
   "id": "a8615f40",
   "metadata": {},
   "outputs": [],
   "source": [
    "#attacks.case_number.replace(to_replace=r'[a-zA-Z]', value = '', regex=True, inplace=True)\n",
    "#attacks\n",
    "\n",
    "#attacks.case_number = attacks.to_datetime(attacks.case_number, format='%Y.%m.%d', errors='coerce')\n"
   ]
  },
  {
   "cell_type": "code",
   "execution_count": 17,
   "id": "d29ac239",
   "metadata": {},
   "outputs": [
    {
     "data": {
      "text/plain": [
       "case_number     0.02\n",
       "year            0.03\n",
       "country         0.79\n",
       "area            7.22\n",
       "time           53.22\n",
       "dtype: float64"
      ]
     },
     "execution_count": 17,
     "metadata": {},
     "output_type": "execute_result"
    }
   ],
   "source": [
    "nan_cols = attacks.isna().mean() * 100\n",
    "\n",
    "round(nan_cols[nan_cols > 0], 2)"
   ]
  },
  {
   "cell_type": "raw",
   "id": "a95521aa",
   "metadata": {},
   "source": [
    "def limpiar_casenumber(x):\n",
    "    for e in len(range(x)):\n",
    "        e.replace()\n",
    "    \n",
    "attacks.case_number[lambda x: ]"
   ]
  },
  {
   "cell_type": "code",
   "execution_count": 18,
   "id": "863d9ef1",
   "metadata": {},
   "outputs": [],
   "source": [
    "attacks.case_number=[int(e) for e in range(1, len(attacks)+1)]"
   ]
  },
  {
   "cell_type": "code",
   "execution_count": 19,
   "id": "05f8f07c",
   "metadata": {},
   "outputs": [
    {
     "data": {
      "text/plain": [
       "year        0.03\n",
       "country     0.79\n",
       "area        7.22\n",
       "time       53.22\n",
       "dtype: float64"
      ]
     },
     "execution_count": 19,
     "metadata": {},
     "output_type": "execute_result"
    }
   ],
   "source": [
    "nan_cols = attacks.isna().mean() * 100\n",
    "\n",
    "round(nan_cols[nan_cols > 0], 2)"
   ]
  },
  {
   "cell_type": "code",
   "execution_count": 20,
   "id": "f74b136f",
   "metadata": {},
   "outputs": [],
   "source": [
    "attacks.date = attacks.date.str.replace('Before ', '')"
   ]
  },
  {
   "cell_type": "code",
   "execution_count": 21,
   "id": "48177737",
   "metadata": {},
   "outputs": [],
   "source": [
    "attacks.date[attacks.date.apply(len)!=11] = np.nan"
   ]
  },
  {
   "cell_type": "code",
   "execution_count": 22,
   "id": "3338cdca",
   "metadata": {},
   "outputs": [],
   "source": [
    "attacks.dropna(subset=['date'], inplace=True)"
   ]
  },
  {
   "cell_type": "code",
   "execution_count": 23,
   "id": "759e8467",
   "metadata": {},
   "outputs": [
    {
     "data": {
      "text/plain": [
       "country     0.31\n",
       "area        4.19\n",
       "time       41.92\n",
       "dtype: float64"
      ]
     },
     "execution_count": 23,
     "metadata": {},
     "output_type": "execute_result"
    }
   ],
   "source": [
    "nan_cols = attacks.isna().mean() * 100\n",
    "\n",
    "round(nan_cols[nan_cols > 0], 2)"
   ]
  },
  {
   "cell_type": "code",
   "execution_count": 31,
   "id": "80e2ef8e",
   "metadata": {},
   "outputs": [],
   "source": [
    "attacks.year = attacks.year.astype('int')"
   ]
  },
  {
   "cell_type": "code",
   "execution_count": null,
   "id": "b3e21b78",
   "metadata": {},
   "outputs": [],
   "source": [
    "attacks.time.fillna()"
   ]
  },
  {
   "cell_type": "code",
   "execution_count": 33,
   "id": "5c9a24c6",
   "metadata": {},
   "outputs": [
    {
     "ename": "TypeError",
     "evalue": "object of type 'float' has no len()",
     "output_type": "error",
     "traceback": [
      "\u001b[1;31m---------------------------------------------------------------------------\u001b[0m",
      "\u001b[1;31mTypeError\u001b[0m                                 Traceback (most recent call last)",
      "\u001b[1;32m~\\AppData\\Local\\Temp\\ipykernel_12104\\153085251.py\u001b[0m in \u001b[0;36m<module>\u001b[1;34m\u001b[0m\n\u001b[1;32m----> 1\u001b[1;33m \u001b[0mattacks\u001b[0m\u001b[1;33m.\u001b[0m\u001b[0mtime\u001b[0m\u001b[1;33m[\u001b[0m\u001b[0mattacks\u001b[0m\u001b[1;33m.\u001b[0m\u001b[0mtime\u001b[0m\u001b[1;33m.\u001b[0m\u001b[0mapply\u001b[0m\u001b[1;33m(\u001b[0m\u001b[0mlen\u001b[0m\u001b[1;33m)\u001b[0m\u001b[1;33m!=\u001b[0m\u001b[1;36m5\u001b[0m\u001b[1;33m]\u001b[0m \u001b[1;33m=\u001b[0m \u001b[0mnp\u001b[0m\u001b[1;33m.\u001b[0m\u001b[0mnan\u001b[0m\u001b[1;33m\u001b[0m\u001b[1;33m\u001b[0m\u001b[0m\n\u001b[0m",
      "\u001b[1;32m~\\anaconda3\\lib\\site-packages\\pandas\\core\\series.py\u001b[0m in \u001b[0;36mapply\u001b[1;34m(self, func, convert_dtype, args, **kwargs)\u001b[0m\n\u001b[0;32m   4431\u001b[0m         \u001b[0mdtype\u001b[0m\u001b[1;33m:\u001b[0m \u001b[0mfloat64\u001b[0m\u001b[1;33m\u001b[0m\u001b[1;33m\u001b[0m\u001b[0m\n\u001b[0;32m   4432\u001b[0m         \"\"\"\n\u001b[1;32m-> 4433\u001b[1;33m         \u001b[1;32mreturn\u001b[0m \u001b[0mSeriesApply\u001b[0m\u001b[1;33m(\u001b[0m\u001b[0mself\u001b[0m\u001b[1;33m,\u001b[0m \u001b[0mfunc\u001b[0m\u001b[1;33m,\u001b[0m \u001b[0mconvert_dtype\u001b[0m\u001b[1;33m,\u001b[0m \u001b[0margs\u001b[0m\u001b[1;33m,\u001b[0m \u001b[0mkwargs\u001b[0m\u001b[1;33m)\u001b[0m\u001b[1;33m.\u001b[0m\u001b[0mapply\u001b[0m\u001b[1;33m(\u001b[0m\u001b[1;33m)\u001b[0m\u001b[1;33m\u001b[0m\u001b[1;33m\u001b[0m\u001b[0m\n\u001b[0m\u001b[0;32m   4434\u001b[0m \u001b[1;33m\u001b[0m\u001b[0m\n\u001b[0;32m   4435\u001b[0m     def _reduce(\n",
      "\u001b[1;32m~\\anaconda3\\lib\\site-packages\\pandas\\core\\apply.py\u001b[0m in \u001b[0;36mapply\u001b[1;34m(self)\u001b[0m\n\u001b[0;32m   1086\u001b[0m             \u001b[1;32mreturn\u001b[0m \u001b[0mself\u001b[0m\u001b[1;33m.\u001b[0m\u001b[0mapply_str\u001b[0m\u001b[1;33m(\u001b[0m\u001b[1;33m)\u001b[0m\u001b[1;33m\u001b[0m\u001b[1;33m\u001b[0m\u001b[0m\n\u001b[0;32m   1087\u001b[0m \u001b[1;33m\u001b[0m\u001b[0m\n\u001b[1;32m-> 1088\u001b[1;33m         \u001b[1;32mreturn\u001b[0m \u001b[0mself\u001b[0m\u001b[1;33m.\u001b[0m\u001b[0mapply_standard\u001b[0m\u001b[1;33m(\u001b[0m\u001b[1;33m)\u001b[0m\u001b[1;33m\u001b[0m\u001b[1;33m\u001b[0m\u001b[0m\n\u001b[0m\u001b[0;32m   1089\u001b[0m \u001b[1;33m\u001b[0m\u001b[0m\n\u001b[0;32m   1090\u001b[0m     \u001b[1;32mdef\u001b[0m \u001b[0magg\u001b[0m\u001b[1;33m(\u001b[0m\u001b[0mself\u001b[0m\u001b[1;33m)\u001b[0m\u001b[1;33m:\u001b[0m\u001b[1;33m\u001b[0m\u001b[1;33m\u001b[0m\u001b[0m\n",
      "\u001b[1;32m~\\anaconda3\\lib\\site-packages\\pandas\\core\\apply.py\u001b[0m in \u001b[0;36mapply_standard\u001b[1;34m(self)\u001b[0m\n\u001b[0;32m   1141\u001b[0m                 \u001b[1;31m# List[Union[Callable[..., Any], str]]]]]\"; expected\u001b[0m\u001b[1;33m\u001b[0m\u001b[1;33m\u001b[0m\u001b[0m\n\u001b[0;32m   1142\u001b[0m                 \u001b[1;31m# \"Callable[[Any], Any]\"\u001b[0m\u001b[1;33m\u001b[0m\u001b[1;33m\u001b[0m\u001b[0m\n\u001b[1;32m-> 1143\u001b[1;33m                 mapped = lib.map_infer(\n\u001b[0m\u001b[0;32m   1144\u001b[0m                     \u001b[0mvalues\u001b[0m\u001b[1;33m,\u001b[0m\u001b[1;33m\u001b[0m\u001b[1;33m\u001b[0m\u001b[0m\n\u001b[0;32m   1145\u001b[0m                     \u001b[0mf\u001b[0m\u001b[1;33m,\u001b[0m  \u001b[1;31m# type: ignore[arg-type]\u001b[0m\u001b[1;33m\u001b[0m\u001b[1;33m\u001b[0m\u001b[0m\n",
      "\u001b[1;32m~\\anaconda3\\lib\\site-packages\\pandas\\_libs\\lib.pyx\u001b[0m in \u001b[0;36mpandas._libs.lib.map_infer\u001b[1;34m()\u001b[0m\n",
      "\u001b[1;31mTypeError\u001b[0m: object of type 'float' has no len()"
     ]
    }
   ],
   "source": [
    "#attacks.time[attacks.time.apply(len)!=5] = np.nan"
   ]
  },
  {
   "cell_type": "code",
   "execution_count": 29,
   "id": "391559df",
   "metadata": {},
   "outputs": [
    {
     "ename": "error",
     "evalue": "nothing to repeat at position 0",
     "output_type": "error",
     "traceback": [
      "\u001b[1;31m---------------------------------------------------------------------------\u001b[0m",
      "\u001b[1;31merror\u001b[0m                                     Traceback (most recent call last)",
      "\u001b[1;32m~\\AppData\\Local\\Temp\\ipykernel_12104\\2290477240.py\u001b[0m in \u001b[0;36m<module>\u001b[1;34m\u001b[0m\n\u001b[1;32m----> 1\u001b[1;33m \u001b[0mattacks\u001b[0m\u001b[1;33m.\u001b[0m\u001b[0mtime\u001b[0m\u001b[1;33m.\u001b[0m\u001b[0mreplace\u001b[0m\u001b[1;33m(\u001b[0m\u001b[0mto_replace\u001b[0m \u001b[1;33m=\u001b[0m \u001b[1;34mr'*[a-zA-Z]*'\u001b[0m\u001b[1;33m,\u001b[0m \u001b[0mvalue\u001b[0m \u001b[1;33m=\u001b[0m \u001b[1;34m''\u001b[0m\u001b[1;33m,\u001b[0m \u001b[0mregex\u001b[0m\u001b[1;33m=\u001b[0m\u001b[1;32mTrue\u001b[0m\u001b[1;33m,\u001b[0m \u001b[0minplace\u001b[0m\u001b[1;33m=\u001b[0m\u001b[1;32mTrue\u001b[0m\u001b[1;33m)\u001b[0m\u001b[1;33m\u001b[0m\u001b[1;33m\u001b[0m\u001b[0m\n\u001b[0m",
      "\u001b[1;32m~\\anaconda3\\lib\\site-packages\\pandas\\core\\series.py\u001b[0m in \u001b[0;36mreplace\u001b[1;34m(self, to_replace, value, inplace, limit, regex, method)\u001b[0m\n\u001b[0;32m   4958\u001b[0m         \u001b[0mmethod\u001b[0m\u001b[1;33m:\u001b[0m \u001b[0mstr\u001b[0m \u001b[1;33m|\u001b[0m \u001b[0mlib\u001b[0m\u001b[1;33m.\u001b[0m\u001b[0mNoDefault\u001b[0m \u001b[1;33m=\u001b[0m \u001b[0mlib\u001b[0m\u001b[1;33m.\u001b[0m\u001b[0mno_default\u001b[0m\u001b[1;33m,\u001b[0m\u001b[1;33m\u001b[0m\u001b[1;33m\u001b[0m\u001b[0m\n\u001b[0;32m   4959\u001b[0m     ):\n\u001b[1;32m-> 4960\u001b[1;33m         return super().replace(\n\u001b[0m\u001b[0;32m   4961\u001b[0m             \u001b[0mto_replace\u001b[0m\u001b[1;33m=\u001b[0m\u001b[0mto_replace\u001b[0m\u001b[1;33m,\u001b[0m\u001b[1;33m\u001b[0m\u001b[1;33m\u001b[0m\u001b[0m\n\u001b[0;32m   4962\u001b[0m             \u001b[0mvalue\u001b[0m\u001b[1;33m=\u001b[0m\u001b[0mvalue\u001b[0m\u001b[1;33m,\u001b[0m\u001b[1;33m\u001b[0m\u001b[1;33m\u001b[0m\u001b[0m\n",
      "\u001b[1;32m~\\anaconda3\\lib\\site-packages\\pandas\\core\\generic.py\u001b[0m in \u001b[0;36mreplace\u001b[1;34m(self, to_replace, value, inplace, limit, regex, method)\u001b[0m\n\u001b[0;32m   6742\u001b[0m \u001b[1;33m\u001b[0m\u001b[0m\n\u001b[0;32m   6743\u001b[0m                 \u001b[1;32melif\u001b[0m \u001b[1;32mnot\u001b[0m \u001b[0mis_list_like\u001b[0m\u001b[1;33m(\u001b[0m\u001b[0mvalue\u001b[0m\u001b[1;33m)\u001b[0m\u001b[1;33m:\u001b[0m  \u001b[1;31m# NA -> 0\u001b[0m\u001b[1;33m\u001b[0m\u001b[1;33m\u001b[0m\u001b[0m\n\u001b[1;32m-> 6744\u001b[1;33m                     \u001b[0mregex\u001b[0m \u001b[1;33m=\u001b[0m \u001b[0mshould_use_regex\u001b[0m\u001b[1;33m(\u001b[0m\u001b[0mregex\u001b[0m\u001b[1;33m,\u001b[0m \u001b[0mto_replace\u001b[0m\u001b[1;33m)\u001b[0m\u001b[1;33m\u001b[0m\u001b[1;33m\u001b[0m\u001b[0m\n\u001b[0m\u001b[0;32m   6745\u001b[0m                     \u001b[1;32mif\u001b[0m \u001b[0mregex\u001b[0m\u001b[1;33m:\u001b[0m\u001b[1;33m\u001b[0m\u001b[1;33m\u001b[0m\u001b[0m\n\u001b[0;32m   6746\u001b[0m                         new_data = self._mgr.replace_regex(\n",
      "\u001b[1;32m~\\anaconda3\\lib\\site-packages\\pandas\\core\\array_algos\\replace.py\u001b[0m in \u001b[0;36mshould_use_regex\u001b[1;34m(regex, to_replace)\u001b[0m\n\u001b[0;32m     35\u001b[0m         \u001b[0mregex\u001b[0m \u001b[1;33m=\u001b[0m \u001b[1;32mTrue\u001b[0m\u001b[1;33m\u001b[0m\u001b[1;33m\u001b[0m\u001b[0m\n\u001b[0;32m     36\u001b[0m \u001b[1;33m\u001b[0m\u001b[0m\n\u001b[1;32m---> 37\u001b[1;33m     \u001b[0mregex\u001b[0m \u001b[1;33m=\u001b[0m \u001b[0mregex\u001b[0m \u001b[1;32mand\u001b[0m \u001b[0mis_re_compilable\u001b[0m\u001b[1;33m(\u001b[0m\u001b[0mto_replace\u001b[0m\u001b[1;33m)\u001b[0m\u001b[1;33m\u001b[0m\u001b[1;33m\u001b[0m\u001b[0m\n\u001b[0m\u001b[0;32m     38\u001b[0m \u001b[1;33m\u001b[0m\u001b[0m\n\u001b[0;32m     39\u001b[0m     \u001b[1;31m# Don't use regex if the pattern is empty.\u001b[0m\u001b[1;33m\u001b[0m\u001b[1;33m\u001b[0m\u001b[0m\n",
      "\u001b[1;32m~\\anaconda3\\lib\\site-packages\\pandas\\core\\dtypes\\inference.py\u001b[0m in \u001b[0;36mis_re_compilable\u001b[1;34m(obj)\u001b[0m\n\u001b[0;32m    175\u001b[0m     \"\"\"\n\u001b[0;32m    176\u001b[0m     \u001b[1;32mtry\u001b[0m\u001b[1;33m:\u001b[0m\u001b[1;33m\u001b[0m\u001b[1;33m\u001b[0m\u001b[0m\n\u001b[1;32m--> 177\u001b[1;33m         \u001b[0mre\u001b[0m\u001b[1;33m.\u001b[0m\u001b[0mcompile\u001b[0m\u001b[1;33m(\u001b[0m\u001b[0mobj\u001b[0m\u001b[1;33m)\u001b[0m\u001b[1;33m\u001b[0m\u001b[1;33m\u001b[0m\u001b[0m\n\u001b[0m\u001b[0;32m    178\u001b[0m     \u001b[1;32mexcept\u001b[0m \u001b[0mTypeError\u001b[0m\u001b[1;33m:\u001b[0m\u001b[1;33m\u001b[0m\u001b[1;33m\u001b[0m\u001b[0m\n\u001b[0;32m    179\u001b[0m         \u001b[1;32mreturn\u001b[0m \u001b[1;32mFalse\u001b[0m\u001b[1;33m\u001b[0m\u001b[1;33m\u001b[0m\u001b[0m\n",
      "\u001b[1;32m~\\anaconda3\\lib\\re.py\u001b[0m in \u001b[0;36mcompile\u001b[1;34m(pattern, flags)\u001b[0m\n\u001b[0;32m    250\u001b[0m \u001b[1;32mdef\u001b[0m \u001b[0mcompile\u001b[0m\u001b[1;33m(\u001b[0m\u001b[0mpattern\u001b[0m\u001b[1;33m,\u001b[0m \u001b[0mflags\u001b[0m\u001b[1;33m=\u001b[0m\u001b[1;36m0\u001b[0m\u001b[1;33m)\u001b[0m\u001b[1;33m:\u001b[0m\u001b[1;33m\u001b[0m\u001b[1;33m\u001b[0m\u001b[0m\n\u001b[0;32m    251\u001b[0m     \u001b[1;34m\"Compile a regular expression pattern, returning a Pattern object.\"\u001b[0m\u001b[1;33m\u001b[0m\u001b[1;33m\u001b[0m\u001b[0m\n\u001b[1;32m--> 252\u001b[1;33m     \u001b[1;32mreturn\u001b[0m \u001b[0m_compile\u001b[0m\u001b[1;33m(\u001b[0m\u001b[0mpattern\u001b[0m\u001b[1;33m,\u001b[0m \u001b[0mflags\u001b[0m\u001b[1;33m)\u001b[0m\u001b[1;33m\u001b[0m\u001b[1;33m\u001b[0m\u001b[0m\n\u001b[0m\u001b[0;32m    253\u001b[0m \u001b[1;33m\u001b[0m\u001b[0m\n\u001b[0;32m    254\u001b[0m \u001b[1;32mdef\u001b[0m \u001b[0mpurge\u001b[0m\u001b[1;33m(\u001b[0m\u001b[1;33m)\u001b[0m\u001b[1;33m:\u001b[0m\u001b[1;33m\u001b[0m\u001b[1;33m\u001b[0m\u001b[0m\n",
      "\u001b[1;32m~\\anaconda3\\lib\\re.py\u001b[0m in \u001b[0;36m_compile\u001b[1;34m(pattern, flags)\u001b[0m\n\u001b[0;32m    302\u001b[0m     \u001b[1;32mif\u001b[0m \u001b[1;32mnot\u001b[0m \u001b[0msre_compile\u001b[0m\u001b[1;33m.\u001b[0m\u001b[0misstring\u001b[0m\u001b[1;33m(\u001b[0m\u001b[0mpattern\u001b[0m\u001b[1;33m)\u001b[0m\u001b[1;33m:\u001b[0m\u001b[1;33m\u001b[0m\u001b[1;33m\u001b[0m\u001b[0m\n\u001b[0;32m    303\u001b[0m         \u001b[1;32mraise\u001b[0m \u001b[0mTypeError\u001b[0m\u001b[1;33m(\u001b[0m\u001b[1;34m\"first argument must be string or compiled pattern\"\u001b[0m\u001b[1;33m)\u001b[0m\u001b[1;33m\u001b[0m\u001b[1;33m\u001b[0m\u001b[0m\n\u001b[1;32m--> 304\u001b[1;33m     \u001b[0mp\u001b[0m \u001b[1;33m=\u001b[0m \u001b[0msre_compile\u001b[0m\u001b[1;33m.\u001b[0m\u001b[0mcompile\u001b[0m\u001b[1;33m(\u001b[0m\u001b[0mpattern\u001b[0m\u001b[1;33m,\u001b[0m \u001b[0mflags\u001b[0m\u001b[1;33m)\u001b[0m\u001b[1;33m\u001b[0m\u001b[1;33m\u001b[0m\u001b[0m\n\u001b[0m\u001b[0;32m    305\u001b[0m     \u001b[1;32mif\u001b[0m \u001b[1;32mnot\u001b[0m \u001b[1;33m(\u001b[0m\u001b[0mflags\u001b[0m \u001b[1;33m&\u001b[0m \u001b[0mDEBUG\u001b[0m\u001b[1;33m)\u001b[0m\u001b[1;33m:\u001b[0m\u001b[1;33m\u001b[0m\u001b[1;33m\u001b[0m\u001b[0m\n\u001b[0;32m    306\u001b[0m         \u001b[1;32mif\u001b[0m \u001b[0mlen\u001b[0m\u001b[1;33m(\u001b[0m\u001b[0m_cache\u001b[0m\u001b[1;33m)\u001b[0m \u001b[1;33m>=\u001b[0m \u001b[0m_MAXCACHE\u001b[0m\u001b[1;33m:\u001b[0m\u001b[1;33m\u001b[0m\u001b[1;33m\u001b[0m\u001b[0m\n",
      "\u001b[1;32m~\\anaconda3\\lib\\sre_compile.py\u001b[0m in \u001b[0;36mcompile\u001b[1;34m(p, flags)\u001b[0m\n\u001b[0;32m    786\u001b[0m     \u001b[1;32mif\u001b[0m \u001b[0misstring\u001b[0m\u001b[1;33m(\u001b[0m\u001b[0mp\u001b[0m\u001b[1;33m)\u001b[0m\u001b[1;33m:\u001b[0m\u001b[1;33m\u001b[0m\u001b[1;33m\u001b[0m\u001b[0m\n\u001b[0;32m    787\u001b[0m         \u001b[0mpattern\u001b[0m \u001b[1;33m=\u001b[0m \u001b[0mp\u001b[0m\u001b[1;33m\u001b[0m\u001b[1;33m\u001b[0m\u001b[0m\n\u001b[1;32m--> 788\u001b[1;33m         \u001b[0mp\u001b[0m \u001b[1;33m=\u001b[0m \u001b[0msre_parse\u001b[0m\u001b[1;33m.\u001b[0m\u001b[0mparse\u001b[0m\u001b[1;33m(\u001b[0m\u001b[0mp\u001b[0m\u001b[1;33m,\u001b[0m \u001b[0mflags\u001b[0m\u001b[1;33m)\u001b[0m\u001b[1;33m\u001b[0m\u001b[1;33m\u001b[0m\u001b[0m\n\u001b[0m\u001b[0;32m    789\u001b[0m     \u001b[1;32melse\u001b[0m\u001b[1;33m:\u001b[0m\u001b[1;33m\u001b[0m\u001b[1;33m\u001b[0m\u001b[0m\n\u001b[0;32m    790\u001b[0m         \u001b[0mpattern\u001b[0m \u001b[1;33m=\u001b[0m \u001b[1;32mNone\u001b[0m\u001b[1;33m\u001b[0m\u001b[1;33m\u001b[0m\u001b[0m\n",
      "\u001b[1;32m~\\anaconda3\\lib\\sre_parse.py\u001b[0m in \u001b[0;36mparse\u001b[1;34m(str, flags, state)\u001b[0m\n\u001b[0;32m    953\u001b[0m \u001b[1;33m\u001b[0m\u001b[0m\n\u001b[0;32m    954\u001b[0m     \u001b[1;32mtry\u001b[0m\u001b[1;33m:\u001b[0m\u001b[1;33m\u001b[0m\u001b[1;33m\u001b[0m\u001b[0m\n\u001b[1;32m--> 955\u001b[1;33m         \u001b[0mp\u001b[0m \u001b[1;33m=\u001b[0m \u001b[0m_parse_sub\u001b[0m\u001b[1;33m(\u001b[0m\u001b[0msource\u001b[0m\u001b[1;33m,\u001b[0m \u001b[0mstate\u001b[0m\u001b[1;33m,\u001b[0m \u001b[0mflags\u001b[0m \u001b[1;33m&\u001b[0m \u001b[0mSRE_FLAG_VERBOSE\u001b[0m\u001b[1;33m,\u001b[0m \u001b[1;36m0\u001b[0m\u001b[1;33m)\u001b[0m\u001b[1;33m\u001b[0m\u001b[1;33m\u001b[0m\u001b[0m\n\u001b[0m\u001b[0;32m    956\u001b[0m     \u001b[1;32mexcept\u001b[0m \u001b[0mVerbose\u001b[0m\u001b[1;33m:\u001b[0m\u001b[1;33m\u001b[0m\u001b[1;33m\u001b[0m\u001b[0m\n\u001b[0;32m    957\u001b[0m         \u001b[1;31m# the VERBOSE flag was switched on inside the pattern.  to be\u001b[0m\u001b[1;33m\u001b[0m\u001b[1;33m\u001b[0m\u001b[0m\n",
      "\u001b[1;32m~\\anaconda3\\lib\\sre_parse.py\u001b[0m in \u001b[0;36m_parse_sub\u001b[1;34m(source, state, verbose, nested)\u001b[0m\n\u001b[0;32m    442\u001b[0m     \u001b[0mstart\u001b[0m \u001b[1;33m=\u001b[0m \u001b[0msource\u001b[0m\u001b[1;33m.\u001b[0m\u001b[0mtell\u001b[0m\u001b[1;33m(\u001b[0m\u001b[1;33m)\u001b[0m\u001b[1;33m\u001b[0m\u001b[1;33m\u001b[0m\u001b[0m\n\u001b[0;32m    443\u001b[0m     \u001b[1;32mwhile\u001b[0m \u001b[1;32mTrue\u001b[0m\u001b[1;33m:\u001b[0m\u001b[1;33m\u001b[0m\u001b[1;33m\u001b[0m\u001b[0m\n\u001b[1;32m--> 444\u001b[1;33m         itemsappend(_parse(source, state, verbose, nested + 1,\n\u001b[0m\u001b[0;32m    445\u001b[0m                            not nested and not items))\n\u001b[0;32m    446\u001b[0m         \u001b[1;32mif\u001b[0m \u001b[1;32mnot\u001b[0m \u001b[0msourcematch\u001b[0m\u001b[1;33m(\u001b[0m\u001b[1;34m\"|\"\u001b[0m\u001b[1;33m)\u001b[0m\u001b[1;33m:\u001b[0m\u001b[1;33m\u001b[0m\u001b[1;33m\u001b[0m\u001b[0m\n",
      "\u001b[1;32m~\\anaconda3\\lib\\sre_parse.py\u001b[0m in \u001b[0;36m_parse\u001b[1;34m(source, state, verbose, nested, first)\u001b[0m\n\u001b[0;32m    667\u001b[0m                 \u001b[0mitem\u001b[0m \u001b[1;33m=\u001b[0m \u001b[1;32mNone\u001b[0m\u001b[1;33m\u001b[0m\u001b[1;33m\u001b[0m\u001b[0m\n\u001b[0;32m    668\u001b[0m             \u001b[1;32mif\u001b[0m \u001b[1;32mnot\u001b[0m \u001b[0mitem\u001b[0m \u001b[1;32mor\u001b[0m \u001b[0mitem\u001b[0m\u001b[1;33m[\u001b[0m\u001b[1;36m0\u001b[0m\u001b[1;33m]\u001b[0m\u001b[1;33m[\u001b[0m\u001b[1;36m0\u001b[0m\u001b[1;33m]\u001b[0m \u001b[1;32mis\u001b[0m \u001b[0mAT\u001b[0m\u001b[1;33m:\u001b[0m\u001b[1;33m\u001b[0m\u001b[1;33m\u001b[0m\u001b[0m\n\u001b[1;32m--> 669\u001b[1;33m                 raise source.error(\"nothing to repeat\",\n\u001b[0m\u001b[0;32m    670\u001b[0m                                    source.tell() - here + len(this))\n\u001b[0;32m    671\u001b[0m             \u001b[1;32mif\u001b[0m \u001b[0mitem\u001b[0m\u001b[1;33m[\u001b[0m\u001b[1;36m0\u001b[0m\u001b[1;33m]\u001b[0m\u001b[1;33m[\u001b[0m\u001b[1;36m0\u001b[0m\u001b[1;33m]\u001b[0m \u001b[1;32min\u001b[0m \u001b[0m_REPEATCODES\u001b[0m\u001b[1;33m:\u001b[0m\u001b[1;33m\u001b[0m\u001b[1;33m\u001b[0m\u001b[0m\n",
      "\u001b[1;31merror\u001b[0m: nothing to repeat at position 0"
     ]
    }
   ],
   "source": [
    "attacks.time.replace(to_replace = r'*[a-zA-Z]*', value = '', regex=True, inplace=True)\n"
   ]
  },
  {
   "cell_type": "code",
   "execution_count": 27,
   "id": "b126f1bf",
   "metadata": {},
   "outputs": [
    {
     "data": {
      "text/plain": [
       "array(['18h00', '14h00  -15h00', '07h45', nan, 'Late afternoon', '17h00',\n",
       "       '14h00', 'Morning', '15h00', '08h15', '11h00', '10h30', '10h40',\n",
       "       '16h50', '07h00', '09h30', 'Afternoon', '21h50', '09h40', '08h00',\n",
       "       '17h35', '19h00, Dusk', 'Night', '16h00', '15h30', '15h01',\n",
       "       '12h00', '13h45', '23h30', '09h00', '14h30', '18h30', '12h30',\n",
       "       '16h30', '18h45', '06h00', '10h00', '10h44', '13h19', 'Midday',\n",
       "       '13h30', '10h45', '11h20', '11h45', '19h30', '08h30', '15h45',\n",
       "       'Shortly before 12h00', '17h34', '17h10', '11h15', '08h50',\n",
       "       '17h45', '13h00', '10h20', '13h20', '07h30', '02h00', '09h50',\n",
       "       '11h30', '17h30', '9h00', '10h43', 'After noon', '15h15', '15h40',\n",
       "       '19h05', '1300', '14h30 / 15h30', '22h00', '16h20', '14h34',\n",
       "       '15h25', '14h55', '17h46', 'Morning ', '15h49', '19h00',\n",
       "       '09h30 / 10h00', '10h15', '18h15', '04h00', '14h50', '13h50',\n",
       "       '19h20', '10h25', '10h45-11h15', '16h45', '15h52', '06h15',\n",
       "       '14h40', '19h45', '10h10', '08h45', 'Evening', '12h10', '18h05',\n",
       "       '11h41', '12h25', '17h51', '16h12', '12h45', '10h50', '14h15',\n",
       "       '09h45', '06h45', '05h00', '03h30',\n",
       "       'Sometime between 06h00 & 08hoo', '06h30', '17h20', '20h00',\n",
       "       '16h40', '16h18', '11h10', 'Early afternoon', '17h50', '17h01',\n",
       "       '09h57', '08h20', '17h58', '20h30', '15h19', '10h55', '15h55',\n",
       "       '23h00', '12h40', '16h05', '15h20', '12h50', '14h45', '13h40',\n",
       "       '13h24', '09h00 - 09h30', '0830', '11h40', '08h10', '15h56',\n",
       "       '14h20', 'Just before noon', '07h56', '1600', '17h17', '16h35',\n",
       "       '09h05', '07h15', '07h20', '19h28', '12h38', '05h50', '15h50',\n",
       "       '11h05', 'Dawn', '05h45', '13h25', '12h20', '13h26', '09h11',\n",
       "       '12h15', '13h15', '18h20', '15h35', 'AM', '13h51', 'A.M.', '08h05',\n",
       "       '19h15', '10h35', '15h44', 'Dusk', '21h00', 'Lunchtime', '15j45',\n",
       "       '09h35', '10h27', '10h16', '0500', 'Early morning', 'Before 07h00',\n",
       "       '09h20', '10h00 -- 11h00', '12h05', '13h55', '14h21', '18h50',\n",
       "       '15h53', '\"Just before 11h00\"', '11h115', '13h42', '20h15',\n",
       "       '12h39', '07h05', 'Sunset', '  ', '13h05', '11h50', '\"Evening\"',\n",
       "       'Just before sundown', '17h55', '22h30', '17h15', '16h10',\n",
       "       '11h30 ', '06h10', '16h15', 'Between 05h00 and 08h00', '14h10',\n",
       "       '07h08', '17h00 or 17h40', '03h00', '>08h00', '--', '12h02',\n",
       "       '12h55', '16h14', '17h11', '00h30', '14h37', '10h07', '13h53',\n",
       "       '11h55', '13h23', 'Just after 12h00', '02h30', '08h40', '11h56',\n",
       "       '14h35', ' ', 'Early Morning', '07h50', 'Shortly after midnight',\n",
       "       '14h25', '13h345', '\\xa0 ', '06h47', '09h00 -10h00',\n",
       "       '20h45 (Sunset)', 'Late morning', 'P.M.', '18h40', '13h14',\n",
       "       '13h06', 'Shortly before 13h00', '12h34', '11h53', '8:04 pm',\n",
       "       '12h46', '12h48', '17h42', '12h35',\n",
       "       'Possibly same incident as 2000.08.21', 'After Dusk', '11h57',\n",
       "       'Noon', '17h40', '11h25', '18h25', '10h28', '09h15', '14h16',\n",
       "       '09h55', '2 hours after Opperman', '15h05', '09h30 ',\n",
       "       'Mid afternoon', '11h48', '11h00 / 11h30', '07h19', '13h37',\n",
       "       '11h06', '\"Night\"', '18h30?', '11h58', '11h51', '18h12', '07h10',\n",
       "       '07h40', '12h33', '30 minutes after 1992.07.08.a', '>06h45',\n",
       "       '15h06', '12h54', 'Between 06h00 & 07h20', '16h55', '05h40',\n",
       "       '<07h30', '21h30', '17h00 Sunset', 'Nightfall', 'X', '08h57',\n",
       "       '18h30 (Sunset)', '06j00', '08h35', '10h22', '02h45',\n",
       "       'Prior to 10h37', 'Daybreak', '18h10', '>12h00', 'Mid-morning',\n",
       "       '08h55', '16h30 or 18h00', ' 14h00', '06h50', '01h00', 'Dark',\n",
       "       '10h00 / 11h00', '07h32', '15h00 or 15h45', '>17h00', 'Midnight',\n",
       "       '19h00 / 20h00', '12h45 / 13h45', '14h00 - 15h00', 'night',\n",
       "       '03h45 - 04h00', '13h10', '09h30 / 15h30', '08h00 / 09h30',\n",
       "       '19h35', '13h35', 'Late night', '01h32', '10h30 or 13h30', '16h23',\n",
       "       '15h00j', '\"After dark\"', '10h00 or 14h00', '19h10', '16h25',\n",
       "       '18h15 to 21h30', '1500', '\"shortly before dusk\"', '>17h30',\n",
       "       '>14h30', 'After 04h00', '11h01 -time of ship sinking',\n",
       "       'Ship aban-doned at 03h10', '19h55',\n",
       "       'FATAL  (Wire netting installed at local beaches after this incident.)',\n",
       "       '01h30', 'After midnight', 'Late afternon', '05h30', '08h58',\n",
       "       '\"Early evening\"', 'Late Afternoon', '   ', 'Before daybreak',\n",
       "       'dusk', 'Before 10h30', '06h00 -- 07h00', '01h50', '17h00-18h00'],\n",
       "      dtype=object)"
      ]
     },
     "execution_count": 27,
     "metadata": {},
     "output_type": "execute_result"
    }
   ],
   "source": [
    "attacks.time.unique()"
   ]
  },
  {
   "cell_type": "code",
   "execution_count": null,
   "id": "a82a89a1",
   "metadata": {},
   "outputs": [],
   "source": []
  }
 ],
 "metadata": {
  "kernelspec": {
   "display_name": "Python 3 (ipykernel)",
   "language": "python",
   "name": "python3"
  },
  "language_info": {
   "codemirror_mode": {
    "name": "ipython",
    "version": 3
   },
   "file_extension": ".py",
   "mimetype": "text/x-python",
   "name": "python",
   "nbconvert_exporter": "python",
   "pygments_lexer": "ipython3",
   "version": "3.9.13"
  }
 },
 "nbformat": 4,
 "nbformat_minor": 5
}
