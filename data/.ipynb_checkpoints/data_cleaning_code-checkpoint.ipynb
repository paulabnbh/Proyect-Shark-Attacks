{
 "cells": [
  {
   "cell_type": "code",
   "execution_count": 1,
   "id": "39b24594",
   "metadata": {},
   "outputs": [],
   "source": [
    "import pandas as pd\n",
    "import numpy as np\n",
    "import re\n",
    "import warnings\n",
    "warnings.filterwarnings('ignore')"
   ]
  },
  {
   "cell_type": "code",
   "execution_count": 2,
   "id": "fee98644",
   "metadata": {},
   "outputs": [],
   "source": [
    "attacks_ori = pd.read_csv('../data/attacks.csv', encoding = 'latin1')\n",
    "pd.set_option('display.max_columns', None)\n",
    "attacks = attacks_ori.copy()"
   ]
  },
  {
   "cell_type": "code",
   "execution_count": 3,
   "id": "c4570cea",
   "metadata": {},
   "outputs": [
    {
     "data": {
      "text/plain": [
       "(25723, 24)"
      ]
     },
     "execution_count": 3,
     "metadata": {},
     "output_type": "execute_result"
    }
   ],
   "source": [
    "attacks_ori.shape"
   ]
  },
  {
   "cell_type": "code",
   "execution_count": 4,
   "id": "e04c2d0a",
   "metadata": {},
   "outputs": [],
   "source": [
    "attacks.columns = attacks.columns.str.strip().str.lower().str.replace(' ','_').str.replace('.','_').str.replace(':','')"
   ]
  },
  {
   "cell_type": "code",
   "execution_count": 5,
   "id": "d4c732e5",
   "metadata": {},
   "outputs": [
    {
     "data": {
      "text/plain": [
       "case_number                66.17\n",
       "date                       75.50\n",
       "year                       75.51\n",
       "type                       75.52\n",
       "country                    75.69\n",
       "area                       77.27\n",
       "location                   77.60\n",
       "activity                   77.62\n",
       "name                       76.32\n",
       "sex                        77.70\n",
       "age                        86.51\n",
       "injury                     75.61\n",
       "fatal_(y/n)                77.60\n",
       "time                       88.54\n",
       "species                    86.53\n",
       "investigator_or_source     75.57\n",
       "pdf                        75.50\n",
       "href_formula               75.50\n",
       "href                       75.50\n",
       "case_number_1              75.50\n",
       "case_number_2              75.50\n",
       "original_order             75.47\n",
       "unnamed_22                100.00\n",
       "unnamed_23                 99.99\n",
       "dtype: float64"
      ]
     },
     "execution_count": 5,
     "metadata": {},
     "output_type": "execute_result"
    }
   ],
   "source": [
    "nan_cols = attacks.isna().mean() * 100\n",
    "\n",
    "round(nan_cols[nan_cols > 0], 2)"
   ]
  },
  {
   "cell_type": "code",
   "execution_count": 6,
   "id": "1109bbe8",
   "metadata": {},
   "outputs": [
    {
     "data": {
      "text/plain": [
       "(6309, 24)"
      ]
     },
     "execution_count": 6,
     "metadata": {},
     "output_type": "execute_result"
    }
   ],
   "source": [
    "attacks = attacks.dropna(thresh = 2) #de esta manera nos quedamos con las filas que al menos tienen 2 columnas con datos.\n",
    "attacks.shape"
   ]
  },
  {
   "cell_type": "code",
   "execution_count": 7,
   "id": "615d17e4",
   "metadata": {},
   "outputs": [
    {
     "data": {
      "text/plain": [
       "case_number                0.02\n",
       "date                       0.11\n",
       "year                       0.14\n",
       "type                       0.17\n",
       "country                    0.90\n",
       "area                       7.32\n",
       "location                   8.67\n",
       "activity                   8.73\n",
       "name                       3.44\n",
       "sex                        9.07\n",
       "age                       44.98\n",
       "injury                     0.55\n",
       "fatal_(y/n)                8.65\n",
       "time                      53.27\n",
       "species                   45.09\n",
       "investigator_or_source     0.38\n",
       "pdf                        0.11\n",
       "href_formula               0.13\n",
       "href                       0.11\n",
       "case_number_1              0.11\n",
       "case_number_2              0.11\n",
       "unnamed_22                99.98\n",
       "unnamed_23                99.97\n",
       "dtype: float64"
      ]
     },
     "execution_count": 7,
     "metadata": {},
     "output_type": "execute_result"
    }
   ],
   "source": [
    "nan_cols = attacks.isna().mean() * 100\n",
    "\n",
    "round(nan_cols[nan_cols > 0], 2)"
   ]
  },
  {
   "cell_type": "code",
   "execution_count": 8,
   "id": "82d7e9fd",
   "metadata": {},
   "outputs": [],
   "source": [
    "attacks.fillna({'type':'unknown', 'name':'unknown', 'sex':'unknown','species':'unknown', 'injury':'not registered', 'fatal_(y/n)':'N/A',\n",
    "                'investigator_or_source':'unknown', 'pdf':'not applies','href_formula': 'not applies',\n",
    "                'href': 'not applies', 'unnamed_22': 0, 'unnamed_23': 0}, inplace = True)"
   ]
  },
  {
   "cell_type": "code",
   "execution_count": 9,
   "id": "16904aa7",
   "metadata": {
    "scrolled": false
   },
   "outputs": [
    {
     "data": {
      "text/plain": [
       "case_number       0.02\n",
       "date              0.11\n",
       "year              0.14\n",
       "country           0.90\n",
       "area              7.32\n",
       "location          8.67\n",
       "activity          8.73\n",
       "age              44.98\n",
       "time             53.27\n",
       "case_number_1     0.11\n",
       "case_number_2     0.11\n",
       "dtype: float64"
      ]
     },
     "execution_count": 9,
     "metadata": {},
     "output_type": "execute_result"
    }
   ],
   "source": [
    "nan_cols = attacks.isna().mean() * 100\n",
    "\n",
    "round(nan_cols[nan_cols > 0], 2)"
   ]
  },
  {
   "cell_type": "code",
   "execution_count": 11,
   "id": "8d4ea4c1",
   "metadata": {
    "scrolled": false
   },
   "outputs": [],
   "source": []
  },
  {
   "cell_type": "code",
   "execution_count": 45,
   "id": "b2ce9619",
   "metadata": {},
   "outputs": [],
   "source": [
    "attacks.age = round(pd.to_numeric(attacks.age, errors='coerce'),0)"
   ]
  },
  {
   "cell_type": "code",
   "execution_count": 49,
   "id": "b86e2353",
   "metadata": {},
   "outputs": [],
   "source": [
    "attacks.age.fillna(attacks.age.mean(), inplace = True)"
   ]
  },
  {
   "cell_type": "code",
   "execution_count": 50,
   "id": "635583bd",
   "metadata": {},
   "outputs": [
    {
     "data": {
      "text/plain": [
       "case_number       0.02\n",
       "date              0.11\n",
       "year              0.14\n",
       "country           0.90\n",
       "area              7.32\n",
       "location          8.67\n",
       "activity          8.73\n",
       "time             53.27\n",
       "case_number_1     0.11\n",
       "case_number_2     0.11\n",
       "dtype: float64"
      ]
     },
     "execution_count": 50,
     "metadata": {},
     "output_type": "execute_result"
    }
   ],
   "source": [
    "nan_cols = attacks.isna().mean() * 100\n",
    "\n",
    "round(nan_cols[nan_cols > 0], 2)"
   ]
  },
  {
   "cell_type": "code",
   "execution_count": null,
   "id": "f2d24d12",
   "metadata": {},
   "outputs": [],
   "source": []
  },
  {
   "cell_type": "code",
   "execution_count": null,
   "id": "c5187082",
   "metadata": {},
   "outputs": [],
   "source": []
  }
 ],
 "metadata": {
  "kernelspec": {
   "display_name": "Python 3 (ipykernel)",
   "language": "python",
   "name": "python3"
  },
  "language_info": {
   "codemirror_mode": {
    "name": "ipython",
    "version": 3
   },
   "file_extension": ".py",
   "mimetype": "text/x-python",
   "name": "python",
   "nbconvert_exporter": "python",
   "pygments_lexer": "ipython3",
   "version": "3.9.13"
  }
 },
 "nbformat": 4,
 "nbformat_minor": 5
}
