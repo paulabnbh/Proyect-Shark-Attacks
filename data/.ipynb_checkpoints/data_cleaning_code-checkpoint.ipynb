{
 "cells": [
  {
   "cell_type": "code",
   "execution_count": 1,
   "id": "39b24594",
   "metadata": {},
   "outputs": [],
   "source": [
    "import pandas as pd\n",
    "import numpy as np\n",
    "import re\n",
    "import warnings\n",
    "warnings.filterwarnings('ignore')"
   ]
  },
  {
   "cell_type": "code",
   "execution_count": 2,
   "id": "fee98644",
   "metadata": {},
   "outputs": [],
   "source": [
    "attacks_original = pd.read_csv('../data/attacks.csv', encoding = 'latin1')\n",
    "pd.set_option('display.max_columns', None)\n",
    "pd.set_option('display.max_rows', None)\n",
    "\n",
    "attacks = attacks_original.copy()"
   ]
  },
  {
   "cell_type": "code",
   "execution_count": 3,
   "id": "c4570cea",
   "metadata": {},
   "outputs": [
    {
     "data": {
      "text/plain": [
       "(25723, 24)"
      ]
     },
     "execution_count": 3,
     "metadata": {},
     "output_type": "execute_result"
    }
   ],
   "source": [
    "attacks_original.shape"
   ]
  },
  {
   "cell_type": "code",
   "execution_count": 4,
   "id": "e04c2d0a",
   "metadata": {},
   "outputs": [],
   "source": [
    "attacks.columns = attacks.columns.str.strip().str.lower().str.replace(' ','_').str.replace('.','_').str.replace(':','')"
   ]
  },
  {
   "cell_type": "code",
   "execution_count": 5,
   "id": "c27214f4",
   "metadata": {},
   "outputs": [
    {
     "data": {
      "text/plain": [
       "case_number                66.17\n",
       "date                       75.50\n",
       "year                       75.51\n",
       "type                       75.52\n",
       "country                    75.69\n",
       "area                       77.27\n",
       "location                   77.60\n",
       "activity                   77.62\n",
       "name                       76.32\n",
       "sex                        77.70\n",
       "age                        86.51\n",
       "injury                     75.61\n",
       "fatal_(y/n)                77.60\n",
       "time                       88.54\n",
       "species                    86.53\n",
       "investigator_or_source     75.57\n",
       "pdf                        75.50\n",
       "href_formula               75.50\n",
       "href                       75.50\n",
       "case_number_1              75.50\n",
       "case_number_2              75.50\n",
       "original_order             75.47\n",
       "unnamed_22                100.00\n",
       "unnamed_23                 99.99\n",
       "dtype: float64"
      ]
     },
     "execution_count": 5,
     "metadata": {},
     "output_type": "execute_result"
    }
   ],
   "source": [
    "nan_cols = attacks.isna().mean() * 100\n",
    "\n",
    "round(nan_cols[nan_cols > 0], 2)"
   ]
  },
  {
   "cell_type": "code",
   "execution_count": 6,
   "id": "1109bbe8",
   "metadata": {},
   "outputs": [
    {
     "data": {
      "text/plain": [
       "(6302, 24)"
      ]
     },
     "execution_count": 6,
     "metadata": {},
     "output_type": "execute_result"
    }
   ],
   "source": [
    "attacks = attacks.dropna(thresh = 3) #de esta manera nos quedamos con las filas que al menos tienen 3 columnas con datos.\n",
    "attacks.shape"
   ]
  },
  {
   "cell_type": "code",
   "execution_count": 7,
   "id": "f6ac6ca3",
   "metadata": {},
   "outputs": [
    {
     "data": {
      "text/plain": [
       "case_number                0.02\n",
       "year                       0.03\n",
       "type                       0.06\n",
       "country                    0.79\n",
       "area                       7.22\n",
       "location                   8.57\n",
       "activity                   8.63\n",
       "name                       3.33\n",
       "sex                        8.97\n",
       "age                       44.92\n",
       "injury                     0.44\n",
       "fatal_(y/n)                8.55\n",
       "time                      53.22\n",
       "species                   45.03\n",
       "investigator_or_source     0.27\n",
       "href_formula               0.02\n",
       "unnamed_22                99.98\n",
       "unnamed_23                99.97\n",
       "dtype: float64"
      ]
     },
     "execution_count": 7,
     "metadata": {},
     "output_type": "execute_result"
    }
   ],
   "source": [
    "nan_cols = attacks.isna().mean() * 100\n",
    "\n",
    "round(nan_cols[nan_cols > 0], 2)"
   ]
  },
  {
   "cell_type": "code",
   "execution_count": 8,
   "id": "82d7e9fd",
   "metadata": {},
   "outputs": [],
   "source": [
    "attacks.fillna({'type':'unknown', 'location' :  'unknown','name':'unknown', 'sex':'unknown','species':'unknown', 'injury':'not registered', 'fatal_(y/n)':'N/A',\n",
    "                'investigator_or_source':'unknown', 'pdf':'not applies','href_formula': 'not applies',\n",
    "                'href': 'not applies', 'unnamed_22': 0, 'unnamed_23': 0}, inplace = True)"
   ]
  },
  {
   "cell_type": "code",
   "execution_count": 9,
   "id": "a1b8266f",
   "metadata": {
    "scrolled": false
   },
   "outputs": [
    {
     "data": {
      "text/plain": [
       "case_number     0.02\n",
       "year            0.03\n",
       "country         0.79\n",
       "area            7.22\n",
       "activity        8.63\n",
       "age            44.92\n",
       "time           53.22\n",
       "dtype: float64"
      ]
     },
     "execution_count": 9,
     "metadata": {},
     "output_type": "execute_result"
    }
   ],
   "source": [
    "nan_cols = attacks.isna().mean() * 100\n",
    "\n",
    "round(nan_cols[nan_cols > 0], 2)"
   ]
  },
  {
   "cell_type": "code",
   "execution_count": 10,
   "id": "f9792360",
   "metadata": {
    "scrolled": false
   },
   "outputs": [],
   "source": [
    "attacks.age = round(pd.to_numeric(attacks.age, errors='coerce'),0) #para convertir todo a float y en caso de no ser float, devuelveme un NAN"
   ]
  },
  {
   "cell_type": "code",
   "execution_count": 11,
   "id": "b1ee7387",
   "metadata": {},
   "outputs": [],
   "source": [
    "attacks.age.fillna(attacks.age.mean(), inplace = True) #para rellenar todos los valores nulos por la media de la columna"
   ]
  },
  {
   "cell_type": "code",
   "execution_count": 12,
   "id": "3f54a625",
   "metadata": {},
   "outputs": [],
   "source": [
    "attacks.age = attacks.age.astype('int')"
   ]
  },
  {
   "cell_type": "code",
   "execution_count": 13,
   "id": "486dca9f",
   "metadata": {},
   "outputs": [
    {
     "data": {
      "text/plain": [
       "case_number     0.02\n",
       "year            0.03\n",
       "country         0.79\n",
       "area            7.22\n",
       "activity        8.63\n",
       "time           53.22\n",
       "dtype: float64"
      ]
     },
     "execution_count": 13,
     "metadata": {},
     "output_type": "execute_result"
    }
   ],
   "source": [
    "nan_cols = attacks.isna().mean() * 100\n",
    "\n",
    "round(nan_cols[nan_cols > 0], 2)"
   ]
  },
  {
   "cell_type": "code",
   "execution_count": 14,
   "id": "abf8c7e1",
   "metadata": {},
   "outputs": [],
   "source": [
    "activitymode = attacks.activity.mode()"
   ]
  },
  {
   "cell_type": "code",
   "execution_count": 15,
   "id": "e79747d3",
   "metadata": {},
   "outputs": [],
   "source": [
    "attacks.activity.fillna('activitymode', inplace=True)"
   ]
  },
  {
   "cell_type": "code",
   "execution_count": 16,
   "id": "d29ac239",
   "metadata": {},
   "outputs": [
    {
     "data": {
      "text/plain": [
       "case_number     0.02\n",
       "year            0.03\n",
       "country         0.79\n",
       "area            7.22\n",
       "time           53.22\n",
       "dtype: float64"
      ]
     },
     "execution_count": 16,
     "metadata": {},
     "output_type": "execute_result"
    }
   ],
   "source": [
    "nan_cols = attacks.isna().mean() * 100\n",
    "\n",
    "round(nan_cols[nan_cols > 0], 2)"
   ]
  },
  {
   "cell_type": "code",
   "execution_count": 17,
   "id": "863d9ef1",
   "metadata": {},
   "outputs": [],
   "source": [
    "attacks.case_number=[int(e) for e in range(1, len(attacks)+1)]"
   ]
  },
  {
   "cell_type": "code",
   "execution_count": 18,
   "id": "05f8f07c",
   "metadata": {},
   "outputs": [
    {
     "data": {
      "text/plain": [
       "year        0.03\n",
       "country     0.79\n",
       "area        7.22\n",
       "time       53.22\n",
       "dtype: float64"
      ]
     },
     "execution_count": 18,
     "metadata": {},
     "output_type": "execute_result"
    }
   ],
   "source": [
    "nan_cols = attacks.isna().mean() * 100\n",
    "\n",
    "round(nan_cols[nan_cols > 0], 2)"
   ]
  },
  {
   "cell_type": "code",
   "execution_count": 19,
   "id": "f74b136f",
   "metadata": {},
   "outputs": [],
   "source": [
    "attacks.date = attacks.date.str.replace('Before ', '')"
   ]
  },
  {
   "cell_type": "code",
   "execution_count": 20,
   "id": "48177737",
   "metadata": {},
   "outputs": [],
   "source": [
    "attacks.date[attacks.date.apply(len)!=11] = np.nan"
   ]
  },
  {
   "cell_type": "code",
   "execution_count": 21,
   "id": "3338cdca",
   "metadata": {},
   "outputs": [],
   "source": [
    "attacks.dropna(subset=['date'], inplace=True)"
   ]
  },
  {
   "cell_type": "code",
   "execution_count": 22,
   "id": "759e8467",
   "metadata": {},
   "outputs": [
    {
     "data": {
      "text/plain": [
       "country     0.31\n",
       "area        4.19\n",
       "time       41.92\n",
       "dtype: float64"
      ]
     },
     "execution_count": 22,
     "metadata": {},
     "output_type": "execute_result"
    }
   ],
   "source": [
    "nan_cols = attacks.isna().mean() * 100\n",
    "\n",
    "round(nan_cols[nan_cols > 0], 2)"
   ]
  },
  {
   "cell_type": "code",
   "execution_count": 23,
   "id": "80e2ef8e",
   "metadata": {},
   "outputs": [],
   "source": [
    "attacks.year = attacks.year.astype('int')"
   ]
  },
  {
   "cell_type": "code",
   "execution_count": 24,
   "id": "d4ff4b10",
   "metadata": {},
   "outputs": [],
   "source": [
    "attacks.time = attacks.time.str.replace('h',':')"
   ]
  },
  {
   "cell_type": "code",
   "execution_count": 25,
   "id": "20c3d866",
   "metadata": {},
   "outputs": [],
   "source": [
    "attacks.time.replace(to_replace = r'[a-zA-Z-/&\\(\\).\"\">? ]', value = '', regex = True, inplace = True)"
   ]
  },
  {
   "cell_type": "code",
   "execution_count": 26,
   "id": "e0db6715",
   "metadata": {},
   "outputs": [],
   "source": [
    "attacks.time.fillna('0', inplace = True)"
   ]
  },
  {
   "cell_type": "code",
   "execution_count": 27,
   "id": "830aa69c",
   "metadata": {},
   "outputs": [],
   "source": [
    "attacks.time[attacks.time.apply(len)!=5] = np.nan"
   ]
  },
  {
   "cell_type": "code",
   "execution_count": 28,
   "id": "9683725b",
   "metadata": {},
   "outputs": [
    {
     "data": {
      "text/plain": [
       "0    11:00\n",
       "Name: time, dtype: object"
      ]
     },
     "execution_count": 28,
     "metadata": {},
     "output_type": "execute_result"
    }
   ],
   "source": [
    "timemode = attacks.time.mode()\n",
    "timemode"
   ]
  },
  {
   "cell_type": "code",
   "execution_count": 29,
   "id": "3a3b6671",
   "metadata": {},
   "outputs": [],
   "source": [
    "attacks.time.fillna('11:00', inplace = True)"
   ]
  },
  {
   "cell_type": "code",
   "execution_count": 30,
   "id": "b126f1bf",
   "metadata": {},
   "outputs": [
    {
     "data": {
      "text/plain": [
       "country    0.31\n",
       "area       4.19\n",
       "dtype: float64"
      ]
     },
     "execution_count": 30,
     "metadata": {},
     "output_type": "execute_result"
    }
   ],
   "source": [
    "nan_cols = attacks.isna().mean() * 100\n",
    "\n",
    "round(nan_cols[nan_cols > 0], 2)"
   ]
  },
  {
   "cell_type": "code",
   "execution_count": 31,
   "id": "2a9b1ec7",
   "metadata": {},
   "outputs": [
    {
     "data": {
      "text/html": [
       "<div>\n",
       "<style scoped>\n",
       "    .dataframe tbody tr th:only-of-type {\n",
       "        vertical-align: middle;\n",
       "    }\n",
       "\n",
       "    .dataframe tbody tr th {\n",
       "        vertical-align: top;\n",
       "    }\n",
       "\n",
       "    .dataframe thead th {\n",
       "        text-align: right;\n",
       "    }\n",
       "</style>\n",
       "<table border=\"1\" class=\"dataframe\">\n",
       "  <thead>\n",
       "    <tr style=\"text-align: right;\">\n",
       "      <th></th>\n",
       "      <th>case_number</th>\n",
       "      <th>date</th>\n",
       "      <th>year</th>\n",
       "      <th>type</th>\n",
       "      <th>country</th>\n",
       "      <th>area</th>\n",
       "      <th>location</th>\n",
       "      <th>activity</th>\n",
       "      <th>name</th>\n",
       "      <th>sex</th>\n",
       "      <th>age</th>\n",
       "      <th>injury</th>\n",
       "      <th>fatal_(y/n)</th>\n",
       "      <th>time</th>\n",
       "      <th>species</th>\n",
       "      <th>investigator_or_source</th>\n",
       "      <th>pdf</th>\n",
       "      <th>href_formula</th>\n",
       "      <th>href</th>\n",
       "      <th>case_number_1</th>\n",
       "      <th>case_number_2</th>\n",
       "      <th>original_order</th>\n",
       "      <th>unnamed_22</th>\n",
       "      <th>unnamed_23</th>\n",
       "    </tr>\n",
       "  </thead>\n",
       "  <tbody>\n",
       "    <tr>\n",
       "      <th>3387</th>\n",
       "      <td>3388</td>\n",
       "      <td>02-Aug-1970</td>\n",
       "      <td>1970</td>\n",
       "      <td>Invalid</td>\n",
       "      <td>NaN</td>\n",
       "      <td>Caribbean Sea</td>\n",
       "      <td>Between St. Kitts &amp; Nevis</td>\n",
       "      <td>Sea Disaster Sinking of ferryboat Christina</td>\n",
       "      <td>unknown</td>\n",
       "      <td>unknown</td>\n",
       "      <td>27</td>\n",
       "      <td>Sharks scavenged on bodies, but no record of t...</td>\n",
       "      <td>N/A</td>\n",
       "      <td>11:00</td>\n",
       "      <td>Shark involvement prior to death was not confi...</td>\n",
       "      <td>Rome News Tribune, 8/3/1970</td>\n",
       "      <td>1970.08.02-Christina-ferryboat.pdf</td>\n",
       "      <td>http://sharkattackfile.net/spreadsheets/pdf_di...</td>\n",
       "      <td>http://sharkattackfile.net/spreadsheets/pdf_di...</td>\n",
       "      <td>1970.08.02</td>\n",
       "      <td>1970.08.02</td>\n",
       "      <td>2916.0</td>\n",
       "      <td>0</td>\n",
       "      <td>0</td>\n",
       "    </tr>\n",
       "    <tr>\n",
       "      <th>4018</th>\n",
       "      <td>4019</td>\n",
       "      <td>26-Jan-1960</td>\n",
       "      <td>1960</td>\n",
       "      <td>Sea Disaster</td>\n",
       "      <td>NaN</td>\n",
       "      <td>Between Timor &amp; Darwin, Australia</td>\n",
       "      <td>unknown</td>\n",
       "      <td>Portuguese Airliner with 9 people aboard went ...</td>\n",
       "      <td>unknown</td>\n",
       "      <td>unknown</td>\n",
       "      <td>27</td>\n",
       "      <td>As searchers approached wreckage, sharks circl...</td>\n",
       "      <td>N</td>\n",
       "      <td>11:00</td>\n",
       "      <td>unknown</td>\n",
       "      <td>V.M. Coppleson (1962), p.260</td>\n",
       "      <td>1960.01.26-Portuguese airliner.pdf</td>\n",
       "      <td>http://sharkattackfile.net/spreadsheets/pdf_di...</td>\n",
       "      <td>http://sharkattackfile.net/spreadsheets/pdf_di...</td>\n",
       "      <td>1960.01.26</td>\n",
       "      <td>1960.01.26</td>\n",
       "      <td>2285.0</td>\n",
       "      <td>0</td>\n",
       "      <td>0</td>\n",
       "    </tr>\n",
       "    <tr>\n",
       "      <th>4231</th>\n",
       "      <td>4232</td>\n",
       "      <td>13-Sep-1956</td>\n",
       "      <td>1956</td>\n",
       "      <td>Unprovoked</td>\n",
       "      <td>NaN</td>\n",
       "      <td>Near the Andaman &amp; Nicobar Islands</td>\n",
       "      <td>unknown</td>\n",
       "      <td>Climbing back on ship</td>\n",
       "      <td>male</td>\n",
       "      <td>M</td>\n",
       "      <td>27</td>\n",
       "      <td>FATAL</td>\n",
       "      <td>Y</td>\n",
       "      <td>11:00</td>\n",
       "      <td>Blue shark</td>\n",
       "      <td>M. Hosina</td>\n",
       "      <td>1956.09.13-TunaBoat.pdf</td>\n",
       "      <td>http://sharkattackfile.net/spreadsheets/pdf_di...</td>\n",
       "      <td>http://sharkattackfile.net/spreadsheets/pdf_di...</td>\n",
       "      <td>1956.09.13</td>\n",
       "      <td>1956.09.13</td>\n",
       "      <td>2072.0</td>\n",
       "      <td>0</td>\n",
       "      <td>0</td>\n",
       "    </tr>\n",
       "    <tr>\n",
       "      <th>5742</th>\n",
       "      <td>5743</td>\n",
       "      <td>30-Jul-1887</td>\n",
       "      <td>1887</td>\n",
       "      <td>Sea Disaster</td>\n",
       "      <td>NaN</td>\n",
       "      <td>Gulf of California</td>\n",
       "      <td>unknown</td>\n",
       "      <td>Sea disaster, wreck of the sloop Sara</td>\n",
       "      <td>2 males</td>\n",
       "      <td>M</td>\n",
       "      <td>27</td>\n",
       "      <td>FATAL</td>\n",
       "      <td>Y</td>\n",
       "      <td>11:00</td>\n",
       "      <td>unknown</td>\n",
       "      <td>Austin Weekly Statesman, 8/11/1887</td>\n",
       "      <td>1887.07.30-TheSara.pdf</td>\n",
       "      <td>http://sharkattackfile.net/spreadsheets/pdf_di...</td>\n",
       "      <td>http://sharkattackfile.net/spreadsheets/pdf_di...</td>\n",
       "      <td>1887.07.30</td>\n",
       "      <td>1887.07.30</td>\n",
       "      <td>561.0</td>\n",
       "      <td>0</td>\n",
       "      <td>0</td>\n",
       "    </tr>\n",
       "    <tr>\n",
       "      <th>6137</th>\n",
       "      <td>6138</td>\n",
       "      <td>05-Jul-1787</td>\n",
       "      <td>1787</td>\n",
       "      <td>Unprovoked</td>\n",
       "      <td>NaN</td>\n",
       "      <td>St Helena</td>\n",
       "      <td>Landing Place</td>\n",
       "      <td>Swimming</td>\n",
       "      <td>Private Isaac Hicksled</td>\n",
       "      <td>M</td>\n",
       "      <td>27</td>\n",
       "      <td>FATAL</td>\n",
       "      <td>Y</td>\n",
       "      <td>11:00</td>\n",
       "      <td>unknown</td>\n",
       "      <td>H.R. Janisch (1885), Extracts from the St. Hel...</td>\n",
       "      <td>1787.07.05-Hicksled.pdf</td>\n",
       "      <td>http://sharkattackfile.net/spreadsheets/pdf_di...</td>\n",
       "      <td>http://sharkattackfile.net/spreadsheets/pdf_di...</td>\n",
       "      <td>1787.07.05</td>\n",
       "      <td>1787.07.05</td>\n",
       "      <td>166.0</td>\n",
       "      <td>0</td>\n",
       "      <td>0</td>\n",
       "    </tr>\n",
       "  </tbody>\n",
       "</table>\n",
       "</div>"
      ],
      "text/plain": [
       "      case_number         date  year          type country  \\\n",
       "3387         3388  02-Aug-1970  1970       Invalid     NaN   \n",
       "4018         4019  26-Jan-1960  1960  Sea Disaster     NaN   \n",
       "4231         4232  13-Sep-1956  1956    Unprovoked     NaN   \n",
       "5742         5743  30-Jul-1887  1887  Sea Disaster     NaN   \n",
       "6137         6138  05-Jul-1787  1787    Unprovoked     NaN   \n",
       "\n",
       "                                    area                   location  \\\n",
       "3387                       Caribbean Sea  Between St. Kitts & Nevis   \n",
       "4018   Between Timor & Darwin, Australia                    unknown   \n",
       "4231  Near the Andaman & Nicobar Islands                    unknown   \n",
       "5742                  Gulf of California                    unknown   \n",
       "6137                           St Helena              Landing Place   \n",
       "\n",
       "                                               activity  \\\n",
       "3387        Sea Disaster Sinking of ferryboat Christina   \n",
       "4018  Portuguese Airliner with 9 people aboard went ...   \n",
       "4231                              Climbing back on ship   \n",
       "5742              Sea disaster, wreck of the sloop Sara   \n",
       "6137                                           Swimming   \n",
       "\n",
       "                        name      sex  age  \\\n",
       "3387                 unknown  unknown   27   \n",
       "4018                 unknown  unknown   27   \n",
       "4231                    male        M   27   \n",
       "5742                 2 males        M   27   \n",
       "6137  Private Isaac Hicksled        M   27   \n",
       "\n",
       "                                                 injury fatal_(y/n)   time  \\\n",
       "3387  Sharks scavenged on bodies, but no record of t...         N/A  11:00   \n",
       "4018  As searchers approached wreckage, sharks circl...           N  11:00   \n",
       "4231                                              FATAL           Y  11:00   \n",
       "5742                                              FATAL           Y  11:00   \n",
       "6137                                              FATAL           Y  11:00   \n",
       "\n",
       "                                                species  \\\n",
       "3387  Shark involvement prior to death was not confi...   \n",
       "4018                                            unknown   \n",
       "4231                                         Blue shark   \n",
       "5742                                            unknown   \n",
       "6137                                            unknown   \n",
       "\n",
       "                                 investigator_or_source  \\\n",
       "3387                        Rome News Tribune, 8/3/1970   \n",
       "4018                       V.M. Coppleson (1962), p.260   \n",
       "4231                                          M. Hosina   \n",
       "5742                 Austin Weekly Statesman, 8/11/1887   \n",
       "6137  H.R. Janisch (1885), Extracts from the St. Hel...   \n",
       "\n",
       "                                     pdf  \\\n",
       "3387  1970.08.02-Christina-ferryboat.pdf   \n",
       "4018  1960.01.26-Portuguese airliner.pdf   \n",
       "4231             1956.09.13-TunaBoat.pdf   \n",
       "5742              1887.07.30-TheSara.pdf   \n",
       "6137             1787.07.05-Hicksled.pdf   \n",
       "\n",
       "                                           href_formula  \\\n",
       "3387  http://sharkattackfile.net/spreadsheets/pdf_di...   \n",
       "4018  http://sharkattackfile.net/spreadsheets/pdf_di...   \n",
       "4231  http://sharkattackfile.net/spreadsheets/pdf_di...   \n",
       "5742  http://sharkattackfile.net/spreadsheets/pdf_di...   \n",
       "6137  http://sharkattackfile.net/spreadsheets/pdf_di...   \n",
       "\n",
       "                                                   href case_number_1  \\\n",
       "3387  http://sharkattackfile.net/spreadsheets/pdf_di...    1970.08.02   \n",
       "4018  http://sharkattackfile.net/spreadsheets/pdf_di...    1960.01.26   \n",
       "4231  http://sharkattackfile.net/spreadsheets/pdf_di...    1956.09.13   \n",
       "5742  http://sharkattackfile.net/spreadsheets/pdf_di...    1887.07.30   \n",
       "6137  http://sharkattackfile.net/spreadsheets/pdf_di...    1787.07.05   \n",
       "\n",
       "     case_number_2  original_order unnamed_22 unnamed_23  \n",
       "3387    1970.08.02          2916.0          0          0  \n",
       "4018    1960.01.26          2285.0          0          0  \n",
       "4231    1956.09.13          2072.0          0          0  \n",
       "5742    1887.07.30           561.0          0          0  \n",
       "6137    1787.07.05           166.0          0          0  "
      ]
     },
     "execution_count": 31,
     "metadata": {},
     "output_type": "execute_result"
    }
   ],
   "source": [
    "attacks.loc[(attacks.country.isnull()) & (attacks.area.notnull())]"
   ]
  },
  {
   "cell_type": "code",
   "execution_count": 32,
   "id": "bb1e1112",
   "metadata": {},
   "outputs": [],
   "source": [
    "attacks.at[3387,'country'] = 'ST KITTS AND NEVIS'\n",
    "attacks.at[4018,'country'] = 'AUSTRALIA'\n",
    "attacks.at[4231,'country'] = 'INDIA'\n",
    "attacks.at[5742,'country'] = 'USA'\n",
    "attacks.at[6137,'country'] = 'ENGLAND'"
   ]
  },
  {
   "cell_type": "code",
   "execution_count": null,
   "id": "1c8c8a0f",
   "metadata": {},
   "outputs": [],
   "source": []
  },
  {
   "cell_type": "code",
   "execution_count": 33,
   "id": "88a4fcfc",
   "metadata": {},
   "outputs": [
    {
     "data": {
      "text/html": [
       "<div>\n",
       "<style scoped>\n",
       "    .dataframe tbody tr th:only-of-type {\n",
       "        vertical-align: middle;\n",
       "    }\n",
       "\n",
       "    .dataframe tbody tr th {\n",
       "        vertical-align: top;\n",
       "    }\n",
       "\n",
       "    .dataframe thead th {\n",
       "        text-align: right;\n",
       "    }\n",
       "</style>\n",
       "<table border=\"1\" class=\"dataframe\">\n",
       "  <thead>\n",
       "    <tr style=\"text-align: right;\">\n",
       "      <th></th>\n",
       "      <th>case_number</th>\n",
       "      <th>date</th>\n",
       "      <th>year</th>\n",
       "      <th>type</th>\n",
       "      <th>country</th>\n",
       "      <th>area</th>\n",
       "      <th>location</th>\n",
       "      <th>activity</th>\n",
       "      <th>name</th>\n",
       "      <th>sex</th>\n",
       "      <th>age</th>\n",
       "      <th>injury</th>\n",
       "      <th>fatal_(y/n)</th>\n",
       "      <th>time</th>\n",
       "      <th>species</th>\n",
       "      <th>investigator_or_source</th>\n",
       "      <th>pdf</th>\n",
       "      <th>href_formula</th>\n",
       "      <th>href</th>\n",
       "      <th>case_number_1</th>\n",
       "      <th>case_number_2</th>\n",
       "      <th>original_order</th>\n",
       "      <th>unnamed_22</th>\n",
       "      <th>unnamed_23</th>\n",
       "    </tr>\n",
       "  </thead>\n",
       "  <tbody>\n",
       "    <tr>\n",
       "      <th>3605</th>\n",
       "      <td>3606</td>\n",
       "      <td>21-Oct-1965</td>\n",
       "      <td>1965</td>\n",
       "      <td>Unprovoked</td>\n",
       "      <td>NaN</td>\n",
       "      <td>NaN</td>\n",
       "      <td>Florida Strait</td>\n",
       "      <td>The boat Caribou II sank</td>\n",
       "      <td>Mario Castellanos</td>\n",
       "      <td>M</td>\n",
       "      <td>39</td>\n",
       "      <td>Survived</td>\n",
       "      <td>N</td>\n",
       "      <td>11:00</td>\n",
       "      <td>unknown</td>\n",
       "      <td>Lodi News Sentinel, 10/30/1965</td>\n",
       "      <td>1965.10.21-Castellanos.pdf</td>\n",
       "      <td>http://sharkattackfile.net/spreadsheets/pdf_di...</td>\n",
       "      <td>http://sharkattackfile.net/spreadsheets/pdf_di...</td>\n",
       "      <td>1965.10.21</td>\n",
       "      <td>1965.10.21</td>\n",
       "      <td>2698.0</td>\n",
       "      <td>0</td>\n",
       "      <td>0</td>\n",
       "    </tr>\n",
       "    <tr>\n",
       "      <th>4639</th>\n",
       "      <td>4640</td>\n",
       "      <td>24-Oct-1944</td>\n",
       "      <td>1944</td>\n",
       "      <td>Sea Disaster</td>\n",
       "      <td>NaN</td>\n",
       "      <td>NaN</td>\n",
       "      <td>225 miles east of Hong Kong</td>\n",
       "      <td>Japanese POW ship Arisan Maru with 1800 Americ...</td>\n",
       "      <td>unknown</td>\n",
       "      <td>M</td>\n",
       "      <td>27</td>\n",
       "      <td>Most of the men drowned &amp; some were taken by s...</td>\n",
       "      <td>Y</td>\n",
       "      <td>17:30</td>\n",
       "      <td>unknown</td>\n",
       "      <td>internet (multiple)</td>\n",
       "      <td>1944.10.24-ArisanMaru.pdf</td>\n",
       "      <td>http://sharkattackfile.net/spreadsheets/pdf_di...</td>\n",
       "      <td>http://sharkattackfile.net/spreadsheets/pdf_di...</td>\n",
       "      <td>1944.10.24</td>\n",
       "      <td>1944.10.24</td>\n",
       "      <td>1664.0</td>\n",
       "      <td>0</td>\n",
       "      <td>0</td>\n",
       "    </tr>\n",
       "    <tr>\n",
       "      <th>5425</th>\n",
       "      <td>5426</td>\n",
       "      <td>17-Jan-1909</td>\n",
       "      <td>1909</td>\n",
       "      <td>Invalid</td>\n",
       "      <td>NaN</td>\n",
       "      <td>NaN</td>\n",
       "      <td>Near the equator</td>\n",
       "      <td>Jumped overboard</td>\n",
       "      <td>Thomas Butler</td>\n",
       "      <td>M</td>\n",
       "      <td>36</td>\n",
       "      <td>FATAL</td>\n",
       "      <td>N/A</td>\n",
       "      <td>11:00</td>\n",
       "      <td>Questionable</td>\n",
       "      <td>Star, 3/18/1909</td>\n",
       "      <td>1909.01.17-Butler.pdf</td>\n",
       "      <td>http://sharkattackfile.net/spreadsheets/pdf_di...</td>\n",
       "      <td>http://sharkattackfile.net/spreadsheets/pdf_di...</td>\n",
       "      <td>1909.01.17</td>\n",
       "      <td>1909.01.17</td>\n",
       "      <td>878.0</td>\n",
       "      <td>0</td>\n",
       "      <td>0</td>\n",
       "    </tr>\n",
       "    <tr>\n",
       "      <th>5810</th>\n",
       "      <td>5811</td>\n",
       "      <td>25-Jul-1881</td>\n",
       "      <td>1881</td>\n",
       "      <td>Unprovoked</td>\n",
       "      <td>NaN</td>\n",
       "      <td>NaN</td>\n",
       "      <td>Santa Cruz</td>\n",
       "      <td>Bathing</td>\n",
       "      <td>Father Hudson</td>\n",
       "      <td>M</td>\n",
       "      <td>27</td>\n",
       "      <td>Survived</td>\n",
       "      <td>N</td>\n",
       "      <td>11:00</td>\n",
       "      <td>unknown</td>\n",
       "      <td>Grey River Argus,10/3/1881, p.2</td>\n",
       "      <td>1881.06.25-FatherHudson.pdf</td>\n",
       "      <td>http://sharkattackfile.net/spreadsheets/pdf_di...</td>\n",
       "      <td>http://sharkattackfile.net/spreadsheets/pdf_di...</td>\n",
       "      <td>1881.06.25</td>\n",
       "      <td>1881.06.25</td>\n",
       "      <td>493.0</td>\n",
       "      <td>0</td>\n",
       "      <td>0</td>\n",
       "    </tr>\n",
       "    <tr>\n",
       "      <th>6155</th>\n",
       "      <td>6156</td>\n",
       "      <td>17-Dec-1742</td>\n",
       "      <td>1742</td>\n",
       "      <td>Unprovoked</td>\n",
       "      <td>NaN</td>\n",
       "      <td>NaN</td>\n",
       "      <td>Carlisle Bay</td>\n",
       "      <td>Swimming</td>\n",
       "      <td>2 impressed seamen</td>\n",
       "      <td>M</td>\n",
       "      <td>27</td>\n",
       "      <td>FATAL</td>\n",
       "      <td>Y</td>\n",
       "      <td>11:00</td>\n",
       "      <td>unknown</td>\n",
       "      <td>C. Moore, GSAF</td>\n",
       "      <td>1742.12.17-AdviceSeamen.pdf</td>\n",
       "      <td>http://sharkattackfile.net/spreadsheets/pdf_di...</td>\n",
       "      <td>http://sharkattackfile.net/spreadsheets/pdf_di...</td>\n",
       "      <td>1742.12.17</td>\n",
       "      <td>1742.12.17</td>\n",
       "      <td>148.0</td>\n",
       "      <td>0</td>\n",
       "      <td>0</td>\n",
       "    </tr>\n",
       "  </tbody>\n",
       "</table>\n",
       "</div>"
      ],
      "text/plain": [
       "      case_number         date  year          type country area  \\\n",
       "3605         3606  21-Oct-1965  1965    Unprovoked     NaN  NaN   \n",
       "4639         4640  24-Oct-1944  1944  Sea Disaster     NaN  NaN   \n",
       "5425         5426  17-Jan-1909  1909       Invalid     NaN  NaN   \n",
       "5810         5811  25-Jul-1881  1881    Unprovoked     NaN  NaN   \n",
       "6155         6156  17-Dec-1742  1742    Unprovoked     NaN  NaN   \n",
       "\n",
       "                         location  \\\n",
       "3605               Florida Strait   \n",
       "4639  225 miles east of Hong Kong   \n",
       "5425             Near the equator   \n",
       "5810                   Santa Cruz   \n",
       "6155                 Carlisle Bay   \n",
       "\n",
       "                                               activity                name  \\\n",
       "3605                           The boat Caribou II sank   Mario Castellanos   \n",
       "4639  Japanese POW ship Arisan Maru with 1800 Americ...             unknown   \n",
       "5425                                  Jumped overboard        Thomas Butler   \n",
       "5810                                            Bathing       Father Hudson   \n",
       "6155                                           Swimming  2 impressed seamen   \n",
       "\n",
       "     sex  age                                             injury fatal_(y/n)  \\\n",
       "3605   M   39                                           Survived           N   \n",
       "4639   M   27  Most of the men drowned & some were taken by s...           Y   \n",
       "5425   M   36                                              FATAL         N/A   \n",
       "5810   M   27                                           Survived           N   \n",
       "6155   M   27                                              FATAL           Y   \n",
       "\n",
       "       time       species           investigator_or_source  \\\n",
       "3605  11:00       unknown   Lodi News Sentinel, 10/30/1965   \n",
       "4639  17:30       unknown              internet (multiple)   \n",
       "5425  11:00  Questionable                  Star, 3/18/1909   \n",
       "5810  11:00       unknown  Grey River Argus,10/3/1881, p.2   \n",
       "6155  11:00       unknown                   C. Moore, GSAF   \n",
       "\n",
       "                              pdf  \\\n",
       "3605   1965.10.21-Castellanos.pdf   \n",
       "4639    1944.10.24-ArisanMaru.pdf   \n",
       "5425        1909.01.17-Butler.pdf   \n",
       "5810  1881.06.25-FatherHudson.pdf   \n",
       "6155  1742.12.17-AdviceSeamen.pdf   \n",
       "\n",
       "                                           href_formula  \\\n",
       "3605  http://sharkattackfile.net/spreadsheets/pdf_di...   \n",
       "4639  http://sharkattackfile.net/spreadsheets/pdf_di...   \n",
       "5425  http://sharkattackfile.net/spreadsheets/pdf_di...   \n",
       "5810  http://sharkattackfile.net/spreadsheets/pdf_di...   \n",
       "6155  http://sharkattackfile.net/spreadsheets/pdf_di...   \n",
       "\n",
       "                                                   href case_number_1  \\\n",
       "3605  http://sharkattackfile.net/spreadsheets/pdf_di...    1965.10.21   \n",
       "4639  http://sharkattackfile.net/spreadsheets/pdf_di...    1944.10.24   \n",
       "5425  http://sharkattackfile.net/spreadsheets/pdf_di...    1909.01.17   \n",
       "5810  http://sharkattackfile.net/spreadsheets/pdf_di...    1881.06.25   \n",
       "6155  http://sharkattackfile.net/spreadsheets/pdf_di...    1742.12.17   \n",
       "\n",
       "     case_number_2  original_order unnamed_22 unnamed_23  \n",
       "3605    1965.10.21          2698.0          0          0  \n",
       "4639    1944.10.24          1664.0          0          0  \n",
       "5425    1909.01.17           878.0          0          0  \n",
       "5810    1881.06.25           493.0          0          0  \n",
       "6155    1742.12.17           148.0          0          0  "
      ]
     },
     "execution_count": 33,
     "metadata": {},
     "output_type": "execute_result"
    }
   ],
   "source": [
    "attacks.loc[(attacks.country.isnull()) & (attacks.location!='unknown')]"
   ]
  },
  {
   "cell_type": "code",
   "execution_count": 34,
   "id": "cdbdf963",
   "metadata": {},
   "outputs": [],
   "source": [
    "attacks.at[3605,'country'] = 'USA'\n",
    "attacks.at[3605,'area'] = 'Florida'\n",
    "\n",
    "attacks.at[4639,'country'] = 'JAPAN'\n",
    "attacks.at[4639,'area'] = 'Hong Kong'\n",
    "\n",
    "attacks.at[5425,'country'] = 'unknown'\n",
    "attacks.at[5425,'area'] = 'unknown'\n",
    "\n",
    "attacks.at[5810,'country'] = 'USA'\n",
    "attacks.at[5810,'area'] = 'California'\n",
    "\n",
    "attacks.at[6155,'country'] = 'BARBADOS'\n",
    "attacks.at[6155,'area'] = 'Antigua y Barbuda'"
   ]
  },
  {
   "cell_type": "code",
   "execution_count": 35,
   "id": "5a0342b7",
   "metadata": {},
   "outputs": [
    {
     "data": {
      "text/plain": [
       "country    0.10\n",
       "area       4.09\n",
       "dtype: float64"
      ]
     },
     "execution_count": 35,
     "metadata": {},
     "output_type": "execute_result"
    }
   ],
   "source": [
    "nan_cols = attacks.isna().mean() * 100\n",
    "\n",
    "round(nan_cols[nan_cols > 0], 2)"
   ]
  },
  {
   "cell_type": "code",
   "execution_count": 36,
   "id": "f1ef7b7d",
   "metadata": {},
   "outputs": [],
   "source": [
    "attacks.country.fillna('unknown', inplace = True)\n",
    "attacks.area.fillna('unknown', inplace = True)"
   ]
  },
  {
   "cell_type": "code",
   "execution_count": 37,
   "id": "e130cc4b",
   "metadata": {},
   "outputs": [
    {
     "data": {
      "text/html": [
       "<div>\n",
       "<style scoped>\n",
       "    .dataframe tbody tr th:only-of-type {\n",
       "        vertical-align: middle;\n",
       "    }\n",
       "\n",
       "    .dataframe tbody tr th {\n",
       "        vertical-align: top;\n",
       "    }\n",
       "\n",
       "    .dataframe thead th {\n",
       "        text-align: right;\n",
       "    }\n",
       "</style>\n",
       "<table border=\"1\" class=\"dataframe\">\n",
       "  <thead>\n",
       "    <tr style=\"text-align: right;\">\n",
       "      <th></th>\n",
       "      <th>case_number</th>\n",
       "      <th>date</th>\n",
       "      <th>year</th>\n",
       "      <th>type</th>\n",
       "      <th>country</th>\n",
       "      <th>area</th>\n",
       "      <th>location</th>\n",
       "      <th>activity</th>\n",
       "      <th>name</th>\n",
       "      <th>sex</th>\n",
       "      <th>age</th>\n",
       "      <th>injury</th>\n",
       "      <th>fatal_(y/n)</th>\n",
       "      <th>time</th>\n",
       "      <th>species</th>\n",
       "      <th>investigator_or_source</th>\n",
       "      <th>pdf</th>\n",
       "      <th>href_formula</th>\n",
       "      <th>href</th>\n",
       "      <th>case_number_1</th>\n",
       "      <th>case_number_2</th>\n",
       "      <th>original_order</th>\n",
       "      <th>unnamed_22</th>\n",
       "      <th>unnamed_23</th>\n",
       "    </tr>\n",
       "  </thead>\n",
       "  <tbody>\n",
       "    <tr>\n",
       "      <th>0</th>\n",
       "      <td>1</td>\n",
       "      <td>25-Jun-2018</td>\n",
       "      <td>2018</td>\n",
       "      <td>Boating</td>\n",
       "      <td>USA</td>\n",
       "      <td>California</td>\n",
       "      <td>Oceanside, San Diego County</td>\n",
       "      <td>Paddling</td>\n",
       "      <td>Julie Wolfe</td>\n",
       "      <td>F</td>\n",
       "      <td>57</td>\n",
       "      <td>No injury to occupant, outrigger canoe and pad...</td>\n",
       "      <td>N</td>\n",
       "      <td>18:00</td>\n",
       "      <td>White shark</td>\n",
       "      <td>R. Collier, GSAF</td>\n",
       "      <td>2018.06.25-Wolfe.pdf</td>\n",
       "      <td>http://sharkattackfile.net/spreadsheets/pdf_di...</td>\n",
       "      <td>http://sharkattackfile.net/spreadsheets/pdf_di...</td>\n",
       "      <td>2018.06.25</td>\n",
       "      <td>2018.06.25</td>\n",
       "      <td>6303.0</td>\n",
       "      <td>0</td>\n",
       "      <td>0</td>\n",
       "    </tr>\n",
       "    <tr>\n",
       "      <th>1</th>\n",
       "      <td>2</td>\n",
       "      <td>18-Jun-2018</td>\n",
       "      <td>2018</td>\n",
       "      <td>Unprovoked</td>\n",
       "      <td>USA</td>\n",
       "      <td>Georgia</td>\n",
       "      <td>St. Simon Island, Glynn County</td>\n",
       "      <td>Standing</td>\n",
       "      <td>Adyson McNeely</td>\n",
       "      <td>F</td>\n",
       "      <td>11</td>\n",
       "      <td>Minor injury to left thigh</td>\n",
       "      <td>N</td>\n",
       "      <td>11:00</td>\n",
       "      <td>unknown</td>\n",
       "      <td>K.McMurray, TrackingSharks.com</td>\n",
       "      <td>2018.06.18-McNeely.pdf</td>\n",
       "      <td>http://sharkattackfile.net/spreadsheets/pdf_di...</td>\n",
       "      <td>http://sharkattackfile.net/spreadsheets/pdf_di...</td>\n",
       "      <td>2018.06.18</td>\n",
       "      <td>2018.06.18</td>\n",
       "      <td>6302.0</td>\n",
       "      <td>0</td>\n",
       "      <td>0</td>\n",
       "    </tr>\n",
       "    <tr>\n",
       "      <th>2</th>\n",
       "      <td>3</td>\n",
       "      <td>09-Jun-2018</td>\n",
       "      <td>2018</td>\n",
       "      <td>Invalid</td>\n",
       "      <td>USA</td>\n",
       "      <td>Hawaii</td>\n",
       "      <td>Habush, Oahu</td>\n",
       "      <td>Surfing</td>\n",
       "      <td>John Denges</td>\n",
       "      <td>M</td>\n",
       "      <td>48</td>\n",
       "      <td>Injury to left lower leg from surfboard skeg</td>\n",
       "      <td>N</td>\n",
       "      <td>07:45</td>\n",
       "      <td>unknown</td>\n",
       "      <td>K.McMurray, TrackingSharks.com</td>\n",
       "      <td>2018.06.09-Denges.pdf</td>\n",
       "      <td>http://sharkattackfile.net/spreadsheets/pdf_di...</td>\n",
       "      <td>http://sharkattackfile.net/spreadsheets/pdf_di...</td>\n",
       "      <td>2018.06.09</td>\n",
       "      <td>2018.06.09</td>\n",
       "      <td>6301.0</td>\n",
       "      <td>0</td>\n",
       "      <td>0</td>\n",
       "    </tr>\n",
       "    <tr>\n",
       "      <th>3</th>\n",
       "      <td>4</td>\n",
       "      <td>08-Jun-2018</td>\n",
       "      <td>2018</td>\n",
       "      <td>Unprovoked</td>\n",
       "      <td>AUSTRALIA</td>\n",
       "      <td>New South Wales</td>\n",
       "      <td>Arrawarra Headland</td>\n",
       "      <td>Surfing</td>\n",
       "      <td>male</td>\n",
       "      <td>M</td>\n",
       "      <td>27</td>\n",
       "      <td>Minor injury to lower leg</td>\n",
       "      <td>N</td>\n",
       "      <td>11:00</td>\n",
       "      <td>2 m shark</td>\n",
       "      <td>B. Myatt, GSAF</td>\n",
       "      <td>2018.06.08-Arrawarra.pdf</td>\n",
       "      <td>http://sharkattackfile.net/spreadsheets/pdf_di...</td>\n",
       "      <td>http://sharkattackfile.net/spreadsheets/pdf_di...</td>\n",
       "      <td>2018.06.08</td>\n",
       "      <td>2018.06.08</td>\n",
       "      <td>6300.0</td>\n",
       "      <td>0</td>\n",
       "      <td>0</td>\n",
       "    </tr>\n",
       "    <tr>\n",
       "      <th>4</th>\n",
       "      <td>5</td>\n",
       "      <td>04-Jun-2018</td>\n",
       "      <td>2018</td>\n",
       "      <td>Provoked</td>\n",
       "      <td>MEXICO</td>\n",
       "      <td>Colima</td>\n",
       "      <td>La Ticla</td>\n",
       "      <td>Free diving</td>\n",
       "      <td>Gustavo Ramos</td>\n",
       "      <td>M</td>\n",
       "      <td>27</td>\n",
       "      <td>Lacerations to leg &amp; hand shark PROVOKED INCIDENT</td>\n",
       "      <td>N</td>\n",
       "      <td>11:00</td>\n",
       "      <td>Tiger shark, 3m</td>\n",
       "      <td>A .Kipper</td>\n",
       "      <td>2018.06.04-Ramos.pdf</td>\n",
       "      <td>http://sharkattackfile.net/spreadsheets/pdf_di...</td>\n",
       "      <td>http://sharkattackfile.net/spreadsheets/pdf_di...</td>\n",
       "      <td>2018.06.04</td>\n",
       "      <td>2018.06.04</td>\n",
       "      <td>6299.0</td>\n",
       "      <td>0</td>\n",
       "      <td>0</td>\n",
       "    </tr>\n",
       "  </tbody>\n",
       "</table>\n",
       "</div>"
      ],
      "text/plain": [
       "   case_number         date  year        type    country             area  \\\n",
       "0            1  25-Jun-2018  2018     Boating        USA       California   \n",
       "1            2  18-Jun-2018  2018  Unprovoked        USA          Georgia   \n",
       "2            3  09-Jun-2018  2018     Invalid        USA           Hawaii   \n",
       "3            4  08-Jun-2018  2018  Unprovoked  AUSTRALIA  New South Wales   \n",
       "4            5  04-Jun-2018  2018    Provoked     MEXICO           Colima   \n",
       "\n",
       "                         location     activity             name sex  age  \\\n",
       "0     Oceanside, San Diego County     Paddling      Julie Wolfe   F   57   \n",
       "1  St. Simon Island, Glynn County     Standing  Adyson McNeely    F   11   \n",
       "2                    Habush, Oahu      Surfing      John Denges   M   48   \n",
       "3              Arrawarra Headland      Surfing             male   M   27   \n",
       "4                        La Ticla  Free diving   Gustavo Ramos    M   27   \n",
       "\n",
       "                                              injury fatal_(y/n)   time  \\\n",
       "0  No injury to occupant, outrigger canoe and pad...           N  18:00   \n",
       "1                         Minor injury to left thigh           N  11:00   \n",
       "2       Injury to left lower leg from surfboard skeg           N  07:45   \n",
       "3                          Minor injury to lower leg           N  11:00   \n",
       "4  Lacerations to leg & hand shark PROVOKED INCIDENT           N  11:00   \n",
       "\n",
       "           species          investigator_or_source                       pdf  \\\n",
       "0      White shark                R. Collier, GSAF      2018.06.25-Wolfe.pdf   \n",
       "1          unknown  K.McMurray, TrackingSharks.com    2018.06.18-McNeely.pdf   \n",
       "2          unknown  K.McMurray, TrackingSharks.com     2018.06.09-Denges.pdf   \n",
       "3        2 m shark                  B. Myatt, GSAF  2018.06.08-Arrawarra.pdf   \n",
       "4  Tiger shark, 3m                       A .Kipper      2018.06.04-Ramos.pdf   \n",
       "\n",
       "                                        href_formula  \\\n",
       "0  http://sharkattackfile.net/spreadsheets/pdf_di...   \n",
       "1  http://sharkattackfile.net/spreadsheets/pdf_di...   \n",
       "2  http://sharkattackfile.net/spreadsheets/pdf_di...   \n",
       "3  http://sharkattackfile.net/spreadsheets/pdf_di...   \n",
       "4  http://sharkattackfile.net/spreadsheets/pdf_di...   \n",
       "\n",
       "                                                href case_number_1  \\\n",
       "0  http://sharkattackfile.net/spreadsheets/pdf_di...    2018.06.25   \n",
       "1  http://sharkattackfile.net/spreadsheets/pdf_di...    2018.06.18   \n",
       "2  http://sharkattackfile.net/spreadsheets/pdf_di...    2018.06.09   \n",
       "3  http://sharkattackfile.net/spreadsheets/pdf_di...    2018.06.08   \n",
       "4  http://sharkattackfile.net/spreadsheets/pdf_di...    2018.06.04   \n",
       "\n",
       "  case_number_2  original_order unnamed_22 unnamed_23  \n",
       "0    2018.06.25          6303.0          0          0  \n",
       "1    2018.06.18          6302.0          0          0  \n",
       "2    2018.06.09          6301.0          0          0  \n",
       "3    2018.06.08          6300.0          0          0  \n",
       "4    2018.06.04          6299.0          0          0  "
      ]
     },
     "execution_count": 37,
     "metadata": {},
     "output_type": "execute_result"
    }
   ],
   "source": [
    "attacks.head()"
   ]
  },
  {
   "cell_type": "code",
   "execution_count": 38,
   "id": "cf7039c2",
   "metadata": {},
   "outputs": [
    {
     "name": "stdout",
     "output_type": "stream",
     "text": [
      "<class 'pandas.core.frame.DataFrame'>\n",
      "Int64Index: 4769 entries, 0 to 6290\n",
      "Data columns (total 24 columns):\n",
      " #   Column                  Non-Null Count  Dtype  \n",
      "---  ------                  --------------  -----  \n",
      " 0   case_number             4769 non-null   int64  \n",
      " 1   date                    4769 non-null   object \n",
      " 2   year                    4769 non-null   int32  \n",
      " 3   type                    4769 non-null   object \n",
      " 4   country                 4769 non-null   object \n",
      " 5   area                    4769 non-null   object \n",
      " 6   location                4769 non-null   object \n",
      " 7   activity                4769 non-null   object \n",
      " 8   name                    4769 non-null   object \n",
      " 9   sex                     4769 non-null   object \n",
      " 10  age                     4769 non-null   int32  \n",
      " 11  injury                  4769 non-null   object \n",
      " 12  fatal_(y/n)             4769 non-null   object \n",
      " 13  time                    4769 non-null   object \n",
      " 14  species                 4769 non-null   object \n",
      " 15  investigator_or_source  4769 non-null   object \n",
      " 16  pdf                     4769 non-null   object \n",
      " 17  href_formula            4769 non-null   object \n",
      " 18  href                    4769 non-null   object \n",
      " 19  case_number_1           4769 non-null   object \n",
      " 20  case_number_2           4769 non-null   object \n",
      " 21  original_order          4769 non-null   float64\n",
      " 22  unnamed_22              4769 non-null   object \n",
      " 23  unnamed_23              4769 non-null   object \n",
      "dtypes: float64(1), int32(2), int64(1), object(20)\n",
      "memory usage: 7.0 MB\n"
     ]
    }
   ],
   "source": [
    "attacks.info(memory_usage = 'deep')"
   ]
  },
  {
   "cell_type": "code",
   "execution_count": 39,
   "id": "92ba3025",
   "metadata": {},
   "outputs": [],
   "source": [
    "for c in attacks.select_dtypes('integer'):\n",
    "    \n",
    "    attacks[c]=pd.to_numeric(attacks[c], downcast='integer')"
   ]
  },
  {
   "cell_type": "code",
   "execution_count": 40,
   "id": "99be9e23",
   "metadata": {},
   "outputs": [],
   "source": [
    "for c in attacks.select_dtypes('float'):\n",
    "    \n",
    "    attacks[c]=pd.to_numeric(attacks[c], downcast='float')"
   ]
  },
  {
   "cell_type": "code",
   "execution_count": 41,
   "id": "1b91a654",
   "metadata": {},
   "outputs": [
    {
     "name": "stdout",
     "output_type": "stream",
     "text": [
      "<class 'pandas.core.frame.DataFrame'>\n",
      "Int64Index: 4769 entries, 0 to 6290\n",
      "Data columns (total 24 columns):\n",
      " #   Column                  Non-Null Count  Dtype   \n",
      "---  ------                  --------------  -----   \n",
      " 0   case_number             4769 non-null   int16   \n",
      " 1   date                    4769 non-null   category\n",
      " 2   year                    4769 non-null   int16   \n",
      " 3   type                    4769 non-null   category\n",
      " 4   country                 4769 non-null   category\n",
      " 5   area                    4769 non-null   category\n",
      " 6   location                4769 non-null   category\n",
      " 7   activity                4769 non-null   category\n",
      " 8   name                    4769 non-null   category\n",
      " 9   sex                     4769 non-null   category\n",
      " 10  age                     4769 non-null   int8    \n",
      " 11  injury                  4769 non-null   category\n",
      " 12  fatal_(y/n)             4769 non-null   category\n",
      " 13  time                    4769 non-null   category\n",
      " 14  species                 4769 non-null   category\n",
      " 15  investigator_or_source  4769 non-null   category\n",
      " 16  pdf                     4769 non-null   category\n",
      " 17  href_formula            4769 non-null   category\n",
      " 18  href                    4769 non-null   category\n",
      " 19  case_number_1           4769 non-null   category\n",
      " 20  case_number_2           4769 non-null   category\n",
      " 21  original_order          4769 non-null   float32 \n",
      " 22  unnamed_22              4769 non-null   category\n",
      " 23  unnamed_23              4769 non-null   category\n",
      "dtypes: category(20), float32(1), int16(2), int8(1)\n",
      "memory usage: 5.6 MB\n"
     ]
    }
   ],
   "source": [
    "for c in attacks.select_dtypes('object'):\n",
    "    \n",
    "    attacks[c]=attacks[c].astype('category')\n",
    "    \n",
    "attacks.info(memory_usage='deep')"
   ]
  },
  {
   "cell_type": "code",
   "execution_count": null,
   "id": "74132480",
   "metadata": {},
   "outputs": [],
   "source": []
  }
 ],
 "metadata": {
  "kernelspec": {
   "display_name": "Python 3 (ipykernel)",
   "language": "python",
   "name": "python3"
  },
  "language_info": {
   "codemirror_mode": {
    "name": "ipython",
    "version": 3
   },
   "file_extension": ".py",
   "mimetype": "text/x-python",
   "name": "python",
   "nbconvert_exporter": "python",
   "pygments_lexer": "ipython3",
   "version": "3.9.13"
  }
 },
 "nbformat": 4,
 "nbformat_minor": 5
}
